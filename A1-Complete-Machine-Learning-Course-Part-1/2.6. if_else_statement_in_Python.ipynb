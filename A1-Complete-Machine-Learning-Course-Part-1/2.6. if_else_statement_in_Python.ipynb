{
 "cells": [
  {
   "cell_type": "markdown",
   "metadata": {
    "id": "9yPP5tJoRu3j"
   },
   "source": [
    "simple if else statement"
   ]
  },
  {
   "cell_type": "code",
   "execution_count": 1,
   "metadata": {
    "colab": {
     "base_uri": "https://localhost:8080/"
    },
    "id": "aGRxtmdPQgBb",
    "outputId": "f90436e0-dd24-40a4-f3ba-644ee4a6ca49"
   },
   "outputs": [
    {
     "name": "stdout",
     "output_type": "stream",
     "text": [
      "b is the greatest number\n"
     ]
    }
   ],
   "source": [
    "a = 30\n",
    "b = 50\n",
    "\n",
    "if (a>b):\n",
    "  print('a is the greatest number')\n",
    "else:\n",
    "  print('b is the greatest number')"
   ]
  },
  {
   "cell_type": "code",
   "execution_count": 2,
   "metadata": {
    "colab": {
     "base_uri": "https://localhost:8080/"
    },
    "id": "nUFrXZovSGIZ",
    "outputId": "6ecee5ab-551c-4cf4-cc2d-0d9c541ebd7f"
   },
   "outputs": [
    {
     "name": "stdout",
     "output_type": "stream",
     "text": [
      "Enter the first number : 12\n",
      "Enter the second number : 23\n",
      "Second number is the greatest\n"
     ]
    }
   ],
   "source": [
    "a = int(input('Enter the first number : '))\n",
    "b = int(input('Enter the second number : '))\n",
    "\n",
    "if (a>b):\n",
    "  print('First number is the greatest')\n",
    "else:\n",
    "  print('Second number is the greatest')"
   ]
  },
  {
   "cell_type": "markdown",
   "metadata": {
    "id": "GJixx9xSSoo-"
   },
   "source": [
    "if elif else statement"
   ]
  },
  {
   "cell_type": "code",
   "execution_count": 3,
   "metadata": {
    "colab": {
     "base_uri": "https://localhost:8080/"
    },
    "id": "y_LUudPwSX6I",
    "outputId": "d4e25b8f-cba9-405a-b34e-d003b14e277a"
   },
   "outputs": [
    {
     "name": "stdout",
     "output_type": "stream",
     "text": [
      "c is the greatest number\n"
     ]
    }
   ],
   "source": [
    "a = 15\n",
    "b = 25\n",
    "c = 30\n",
    "\n",
    "if (b<a>c):\n",
    "  print('a is the greatest number')\n",
    "elif (a<b>c):\n",
    "  print('b is the greatest number')\n",
    "else:\n",
    "  print('c is the greatest number')\n"
   ]
  },
  {
   "cell_type": "markdown",
   "metadata": {
    "id": "cr5QqpJBTe2N"
   },
   "source": [
    "nested if statement"
   ]
  },
  {
   "cell_type": "code",
   "execution_count": 4,
   "metadata": {
    "colab": {
     "base_uri": "https://localhost:8080/"
    },
    "id": "YXooMdY1Tb8Z",
    "outputId": "ea061bc4-ec14-4383-d342-abbf1d1419aa"
   },
   "outputs": [
    {
     "name": "stdout",
     "output_type": "stream",
     "text": [
      "c is the greatest number\n"
     ]
    }
   ],
   "source": [
    "a = 20\n",
    "b = 40\n",
    "c = 60\n",
    "\n",
    "if (a>b):\n",
    "  if (a>c):\n",
    "    print('a is the greatest number')\n",
    "  else:\n",
    "    print('c is the greatest number')\n",
    "else:\n",
    "  if (b>c):\n",
    "    print('b is the greatest number')\n",
    "  else:\n",
    "    print('c is the greatest number') "
   ]
  }
 ],
 "metadata": {
  "colab": {
   "collapsed_sections": [],
   "provenance": []
  },
  "kernelspec": {
   "display_name": "Python 3 (ipykernel)",
   "language": "python",
   "name": "python3"
  },
  "language_info": {
   "codemirror_mode": {
    "name": "ipython",
    "version": 3
   },
   "file_extension": ".py",
   "mimetype": "text/x-python",
   "name": "python",
   "nbconvert_exporter": "python",
   "pygments_lexer": "ipython3",
   "version": "3.9.13"
  }
 },
 "nbformat": 4,
 "nbformat_minor": 1
}
