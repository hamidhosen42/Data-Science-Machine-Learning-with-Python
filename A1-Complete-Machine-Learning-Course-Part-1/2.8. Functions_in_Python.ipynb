{
 "cells": [
  {
   "cell_type": "markdown",
   "metadata": {
    "id": "P6doAW5l8ba2"
   },
   "source": [
    "Functions: \n",
    "\n",
    "Function is a block of code that can be reused in a Program"
   ]
  },
  {
   "cell_type": "markdown",
   "metadata": {
    "id": "3YuBEtBR86X8"
   },
   "source": [
    "Factorial of a Number"
   ]
  },
  {
   "cell_type": "markdown",
   "metadata": {
    "id": "Z8ySi-x58_8w"
   },
   "source": [
    "Factorial of a number is the product of all the positive integers less than or equal to the given number"
   ]
  },
  {
   "cell_type": "markdown",
   "metadata": {
    "id": "3tUJEQyC9LLh"
   },
   "source": [
    "Factorial of 5 = 5 x 4 x 3 x 2 x 1 = 120"
   ]
  },
  {
   "cell_type": "code",
   "execution_count": 1,
   "metadata": {
    "colab": {
     "base_uri": "https://localhost:8080/"
    },
    "id": "Z3F1xOof8LbY",
    "outputId": "76a7da9c-11c8-4732-f49d-25a164242fe9"
   },
   "outputs": [
    {
     "name": "stdout",
     "output_type": "stream",
     "text": [
      " Enter a number to find its factorial : 5\n",
      "The factorial of  5  is 120\n"
     ]
    }
   ],
   "source": [
    "number = int(input(' Enter a number to find its factorial : '))\n",
    "\n",
    "factorial = 1\n",
    "\n",
    "if number == 0:\n",
    "  print(' The Factorial of 0 is 1')\n",
    "\n",
    "else:\n",
    "  for i in range(1, number+1):    \n",
    "    factorial = factorial*i\n",
    "  print('The factorial of ',number,' is',factorial)   "
   ]
  },
  {
   "cell_type": "markdown",
   "metadata": {
    "id": "3Rv9GbOh-7XI"
   },
   "source": [
    "Factoraial Function"
   ]
  },
  {
   "cell_type": "code",
   "execution_count": 2,
   "metadata": {
    "id": "pZH6ilR8-uQh"
   },
   "outputs": [],
   "source": [
    "def factorial_value(num):\n",
    "\n",
    "  factorial = 1\n",
    "\n",
    "  if num == 0:\n",
    "    return factorial\n",
    "\n",
    "  else:\n",
    "    for i in range(1, num+1):\n",
    "      factorial = factorial*i\n",
    "    return factorial"
   ]
  },
  {
   "cell_type": "code",
   "execution_count": 3,
   "metadata": {
    "colab": {
     "base_uri": "https://localhost:8080/"
    },
    "id": "Nwf8f6su_ige",
    "outputId": "983dcfbf-e5fd-4770-918a-795fccc59eb2"
   },
   "outputs": [
    {
     "name": "stdout",
     "output_type": "stream",
     "text": [
      "120\n"
     ]
    }
   ],
   "source": [
    "print(factorial_value(5))"
   ]
  },
  {
   "cell_type": "code",
   "execution_count": 4,
   "metadata": {
    "colab": {
     "base_uri": "https://localhost:8080/"
    },
    "id": "YXEVZyna_oKL",
    "outputId": "e9513dbd-4314-4d9c-d719-4eccb05867cd"
   },
   "outputs": [
    {
     "name": "stdout",
     "output_type": "stream",
     "text": [
      "3628800\n"
     ]
    }
   ],
   "source": [
    "print(factorial_value(10))"
   ]
  },
  {
   "cell_type": "code",
   "execution_count": 5,
   "metadata": {
    "colab": {
     "base_uri": "https://localhost:8080/"
    },
    "id": "Gk0kwebb_y3U",
    "outputId": "f7532445-7844-4ffb-cf00-ee1086416724"
   },
   "outputs": [
    {
     "name": "stdout",
     "output_type": "stream",
     "text": [
      "720\n"
     ]
    }
   ],
   "source": [
    "print(factorial_value(6))"
   ]
  }
 ],
 "metadata": {
  "colab": {
   "provenance": []
  },
  "kernelspec": {
   "display_name": "Python 3 (ipykernel)",
   "language": "python",
   "name": "python3"
  },
  "language_info": {
   "codemirror_mode": {
    "name": "ipython",
    "version": 3
   },
   "file_extension": ".py",
   "mimetype": "text/x-python",
   "name": "python",
   "nbconvert_exporter": "python",
   "pygments_lexer": "ipython3",
   "version": "3.9.13"
  }
 },
 "nbformat": 4,
 "nbformat_minor": 1
}
