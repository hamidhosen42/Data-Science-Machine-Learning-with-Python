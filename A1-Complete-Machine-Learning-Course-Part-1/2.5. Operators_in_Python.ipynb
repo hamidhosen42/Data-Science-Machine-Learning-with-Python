{
 "cells": [
  {
   "cell_type": "markdown",
   "metadata": {
    "id": "z8iVDs11-ogJ"
   },
   "source": [
    "Operators in Python:\n",
    "1. Arithmetic Operators\n",
    "2. Assignment Operators\n",
    "3. Comparison Operators\n",
    "4. Logical Operators\n",
    "5. Identity Operators\n",
    "6. Membership Operators"
   ]
  },
  {
   "cell_type": "markdown",
   "metadata": {
    "id": "5NTu_QYw_212"
   },
   "source": [
    "1. Arithmetic Operators"
   ]
  },
  {
   "cell_type": "code",
   "execution_count": 1,
   "metadata": {
    "colab": {
     "base_uri": "https://localhost:8080/"
    },
    "id": "CXYtGkkZ59n1",
    "outputId": "ed373db5-6740-40fa-c477-d0f2f67fddc3"
   },
   "outputs": [
    {
     "name": "stdout",
     "output_type": "stream",
     "text": [
      "sum =  30\n",
      "difference =  10\n",
      "product =  200\n",
      "quotient =  2.0\n",
      "exponent =  10240000000000\n",
      "reminder =  0\n"
     ]
    }
   ],
   "source": [
    "num_1 = 20\n",
    "num_2 = 10\n",
    "\n",
    "# addition\n",
    "sum = num_1 + num_2\n",
    "print('sum = ',sum)\n",
    "\n",
    "# subtraction\n",
    "diff = num_1 - num_2\n",
    "print('difference = ',diff)\n",
    "\n",
    "# multiplication\n",
    "pro = num_1 * num_2\n",
    "print('product = ',pro)\n",
    "\n",
    "# division\n",
    "quo = num_1 / num_2\n",
    "print('quotient = ',quo)\n",
    "\n",
    "# exponent\n",
    "exp = num_1**num_2   # 20^10\n",
    "print('exponent = ',exp)\n",
    "\n",
    "# modulus\n",
    "mod = num_1 % num_2\n",
    "print('reminder = ',mod)"
   ]
  },
  {
   "cell_type": "markdown",
   "metadata": {
    "id": "E12rvExzBIh7"
   },
   "source": [
    "2. Assignment Operators"
   ]
  },
  {
   "cell_type": "markdown",
   "metadata": {
    "id": "K-LS4tHQBiPZ"
   },
   "source": [
    "+=\n",
    "\n",
    "-=\n",
    "\n",
    "*=\n",
    "\n",
    "**=\n",
    "\n",
    "/=\n",
    "\n",
    "%="
   ]
  },
  {
   "cell_type": "code",
   "execution_count": 2,
   "metadata": {
    "colab": {
     "base_uri": "https://localhost:8080/"
    },
    "id": "YwWiUzaNBDaD",
    "outputId": "a187ca00-043d-466f-a074-f182ccc4496e"
   },
   "outputs": [
    {
     "name": "stdout",
     "output_type": "stream",
     "text": [
      "5\n"
     ]
    }
   ],
   "source": [
    "a = 5\n",
    "print(a)"
   ]
  },
  {
   "cell_type": "code",
   "execution_count": 3,
   "metadata": {
    "colab": {
     "base_uri": "https://localhost:8080/"
    },
    "id": "LxJoSCRVBPrv",
    "outputId": "cdcc508a-8abf-476b-f952-a708de062360"
   },
   "outputs": [
    {
     "name": "stdout",
     "output_type": "stream",
     "text": [
      "10\n"
     ]
    }
   ],
   "source": [
    "a = 5\n",
    "a += 5   # a = a + 5\n",
    "print(a)"
   ]
  },
  {
   "cell_type": "code",
   "execution_count": 4,
   "metadata": {
    "colab": {
     "base_uri": "https://localhost:8080/"
    },
    "id": "F5hy5OvoBY0t",
    "outputId": "c1b988e4-bee0-4faa-c76f-491cffc4ee0e"
   },
   "outputs": [
    {
     "name": "stdout",
     "output_type": "stream",
     "text": [
      "3\n"
     ]
    }
   ],
   "source": [
    "b = 5\n",
    "b -= 2   # b = b-2\n",
    "print(b)"
   ]
  },
  {
   "cell_type": "markdown",
   "metadata": {
    "id": "0B6StO-HBv1E"
   },
   "source": [
    "3. Comparison Operators"
   ]
  },
  {
   "cell_type": "code",
   "execution_count": 5,
   "metadata": {
    "colab": {
     "base_uri": "https://localhost:8080/"
    },
    "id": "9L2aTaKUBftz",
    "outputId": "b70b186f-7cc5-4887-aa81-418e1e1cac59"
   },
   "outputs": [
    {
     "name": "stdout",
     "output_type": "stream",
     "text": [
      "False\n",
      "True\n",
      "False\n",
      "True\n",
      "True\n",
      "False\n"
     ]
    }
   ],
   "source": [
    "a = 5\n",
    "b = 10\n",
    "\n",
    "print(a == b)   # equal to\n",
    "print(a != b)   # not equal to\n",
    "print(a > b)    # greater than\n",
    "print(a < b)\n",
    "print(a <= b)\n",
    "print(a >= b)  "
   ]
  },
  {
   "cell_type": "markdown",
   "metadata": {
    "id": "5vG_Gp-DCc-u"
   },
   "source": [
    "4. Logical Operators"
   ]
  },
  {
   "cell_type": "markdown",
   "metadata": {
    "id": "0k1QjwN7Cfx5"
   },
   "source": [
    "and\n",
    "\n",
    "or\n",
    "\n",
    "not"
   ]
  },
  {
   "cell_type": "code",
   "execution_count": 6,
   "metadata": {
    "colab": {
     "base_uri": "https://localhost:8080/"
    },
    "id": "XKVEPY3UCVqy",
    "outputId": "48152426-7541-4483-a272-85090c9c20f3"
   },
   "outputs": [
    {
     "name": "stdout",
     "output_type": "stream",
     "text": [
      "False\n",
      "True\n",
      "False\n"
     ]
    }
   ],
   "source": [
    "a = 10\n",
    "\n",
    "print( a>20 and a>5)\n",
    "print( a>20 or a>5)\n",
    "print( not( a>8 and a>5))"
   ]
  },
  {
   "cell_type": "markdown",
   "metadata": {
    "id": "xzOpIj7eDKrz"
   },
   "source": [
    "5. Identity Operator:\n",
    "\n",
    "is \n",
    "\n",
    "is not"
   ]
  },
  {
   "cell_type": "code",
   "execution_count": 7,
   "metadata": {
    "colab": {
     "base_uri": "https://localhost:8080/"
    },
    "id": "005EmRZMDERy",
    "outputId": "7c75b240-62d6-4aaa-be75-51da8afc2795"
   },
   "outputs": [
    {
     "name": "stdout",
     "output_type": "stream",
     "text": [
      "True\n"
     ]
    }
   ],
   "source": [
    "x = 5\n",
    "y = 5\n",
    "\n",
    "print(x is y)"
   ]
  },
  {
   "cell_type": "code",
   "execution_count": 8,
   "metadata": {
    "colab": {
     "base_uri": "https://localhost:8080/"
    },
    "id": "ZQy2V1ViDT5x",
    "outputId": "3782b1dc-8dda-4598-9d45-b3f9e859a6f2"
   },
   "outputs": [
    {
     "name": "stdout",
     "output_type": "stream",
     "text": [
      "False\n"
     ]
    }
   ],
   "source": [
    "x = 5\n",
    "y = 10\n",
    "\n",
    "print(x is y)"
   ]
  },
  {
   "cell_type": "code",
   "execution_count": 9,
   "metadata": {
    "colab": {
     "base_uri": "https://localhost:8080/"
    },
    "id": "bSZFIncfDYVc",
    "outputId": "c301afff-7c5d-45e6-eac8-ed31719e8804"
   },
   "outputs": [
    {
     "name": "stdout",
     "output_type": "stream",
     "text": [
      "False\n"
     ]
    }
   ],
   "source": [
    "x = 5\n",
    "y = 5\n",
    "\n",
    "print(x is not y)"
   ]
  },
  {
   "cell_type": "code",
   "execution_count": 10,
   "metadata": {
    "colab": {
     "base_uri": "https://localhost:8080/"
    },
    "id": "uVAX_AejDcsX",
    "outputId": "abbad84c-bc89-44e0-fff6-b21b7539743a"
   },
   "outputs": [
    {
     "name": "stdout",
     "output_type": "stream",
     "text": [
      "True\n"
     ]
    }
   ],
   "source": [
    "x = 5\n",
    "y = 10\n",
    "\n",
    "print(x is not y)"
   ]
  },
  {
   "cell_type": "markdown",
   "metadata": {
    "id": "mvIH9bSEDlSw"
   },
   "source": [
    "6. Membership Operator:\n",
    "\n",
    "in \n",
    "\n",
    "not in"
   ]
  },
  {
   "cell_type": "code",
   "execution_count": 11,
   "metadata": {
    "colab": {
     "base_uri": "https://localhost:8080/"
    },
    "id": "IkUTVRTmDfic",
    "outputId": "afc0d8cd-4e9e-4516-e23e-569752a176cb"
   },
   "outputs": [
    {
     "name": "stdout",
     "output_type": "stream",
     "text": [
      "True\n",
      "False\n"
     ]
    }
   ],
   "source": [
    "a = 5\n",
    "b =10\n",
    "\n",
    "c = [1,2,3,4,5]\n",
    "print( a in c)\n",
    "print( b in c)"
   ]
  },
  {
   "cell_type": "code",
   "execution_count": 12,
   "metadata": {
    "colab": {
     "base_uri": "https://localhost:8080/"
    },
    "id": "LOYpdrbnD4Fb",
    "outputId": "782c2ff9-cc82-4797-c9af-1020a7bf037d"
   },
   "outputs": [
    {
     "name": "stdout",
     "output_type": "stream",
     "text": [
      "False\n",
      "True\n"
     ]
    }
   ],
   "source": [
    "a = 5\n",
    "b =10\n",
    "\n",
    "c = [1,2,3,4,5]\n",
    "print( a not in c)\n",
    "print( b not in c)"
   ]
  }
 ],
 "metadata": {
  "colab": {
   "collapsed_sections": [],
   "provenance": []
  },
  "kernelspec": {
   "display_name": "Python 3 (ipykernel)",
   "language": "python",
   "name": "python3"
  },
  "language_info": {
   "codemirror_mode": {
    "name": "ipython",
    "version": 3
   },
   "file_extension": ".py",
   "mimetype": "text/x-python",
   "name": "python",
   "nbconvert_exporter": "python",
   "pygments_lexer": "ipython3",
   "version": "3.9.13"
  }
 },
 "nbformat": 4,
 "nbformat_minor": 1
}
