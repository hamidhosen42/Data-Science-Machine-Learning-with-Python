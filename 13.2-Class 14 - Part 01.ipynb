{
 "cells": [
  {
   "cell_type": "code",
   "execution_count": 2,
   "id": "f72a3e04",
   "metadata": {},
   "outputs": [],
   "source": [
    "import pandas as pd\n",
    "from sklearn.datasets import make_classification # make regression for regression data"
   ]
  },
  {
   "cell_type": "code",
   "execution_count": 3,
   "id": "f08781f7",
   "metadata": {},
   "outputs": [],
   "source": [
    "x,y = make_classification(n_samples=60000,n_features=25) # 60k samples with 25 features"
   ]
  },
  {
   "cell_type": "code",
   "execution_count": 4,
   "id": "e71f630d",
   "metadata": {},
   "outputs": [
    {
     "data": {
      "text/plain": [
       "(60000, 25)"
      ]
     },
     "execution_count": 4,
     "metadata": {},
     "output_type": "execute_result"
    }
   ],
   "source": [
    "x.shape"
   ]
  },
  {
   "cell_type": "code",
   "execution_count": 5,
   "id": "ef66e54f",
   "metadata": {},
   "outputs": [
    {
     "data": {
      "text/plain": [
       "(60000,)"
      ]
     },
     "execution_count": 5,
     "metadata": {},
     "output_type": "execute_result"
    }
   ],
   "source": [
    "y.shape"
   ]
  },
  {
   "cell_type": "code",
   "execution_count": 7,
   "id": "e529f5ec",
   "metadata": {},
   "outputs": [],
   "source": [
    "y = pd.DataFrame(y)"
   ]
  },
  {
   "cell_type": "code",
   "execution_count": 8,
   "id": "ccd9031b",
   "metadata": {},
   "outputs": [
    {
     "data": {
      "text/plain": [
       "1    30014\n",
       "0    29986\n",
       "dtype: int64"
      ]
     },
     "execution_count": 8,
     "metadata": {},
     "output_type": "execute_result"
    }
   ],
   "source": [
    "y.value_counts()"
   ]
  },
  {
   "cell_type": "code",
   "execution_count": 9,
   "id": "b126885d",
   "metadata": {},
   "outputs": [],
   "source": [
    "x = pd.DataFrame(x)"
   ]
  },
  {
   "cell_type": "code",
   "execution_count": 10,
   "id": "c2dd7259",
   "metadata": {},
   "outputs": [
    {
     "data": {
      "text/html": [
       "<div>\n",
       "<style scoped>\n",
       "    .dataframe tbody tr th:only-of-type {\n",
       "        vertical-align: middle;\n",
       "    }\n",
       "\n",
       "    .dataframe tbody tr th {\n",
       "        vertical-align: top;\n",
       "    }\n",
       "\n",
       "    .dataframe thead th {\n",
       "        text-align: right;\n",
       "    }\n",
       "</style>\n",
       "<table border=\"1\" class=\"dataframe\">\n",
       "  <thead>\n",
       "    <tr style=\"text-align: right;\">\n",
       "      <th></th>\n",
       "      <th>0</th>\n",
       "      <th>1</th>\n",
       "      <th>2</th>\n",
       "      <th>3</th>\n",
       "      <th>4</th>\n",
       "      <th>5</th>\n",
       "      <th>6</th>\n",
       "      <th>7</th>\n",
       "      <th>8</th>\n",
       "      <th>9</th>\n",
       "      <th>...</th>\n",
       "      <th>15</th>\n",
       "      <th>16</th>\n",
       "      <th>17</th>\n",
       "      <th>18</th>\n",
       "      <th>19</th>\n",
       "      <th>20</th>\n",
       "      <th>21</th>\n",
       "      <th>22</th>\n",
       "      <th>23</th>\n",
       "      <th>24</th>\n",
       "    </tr>\n",
       "  </thead>\n",
       "  <tbody>\n",
       "    <tr>\n",
       "      <th>0</th>\n",
       "      <td>0.680585</td>\n",
       "      <td>0.817154</td>\n",
       "      <td>0.668153</td>\n",
       "      <td>0.441601</td>\n",
       "      <td>1.486122</td>\n",
       "      <td>-0.447554</td>\n",
       "      <td>0.201796</td>\n",
       "      <td>0.231473</td>\n",
       "      <td>-0.595540</td>\n",
       "      <td>0.635947</td>\n",
       "      <td>...</td>\n",
       "      <td>0.312237</td>\n",
       "      <td>-0.498302</td>\n",
       "      <td>-0.290853</td>\n",
       "      <td>0.114214</td>\n",
       "      <td>-0.485206</td>\n",
       "      <td>1.291467</td>\n",
       "      <td>0.384246</td>\n",
       "      <td>1.421746</td>\n",
       "      <td>-1.144843</td>\n",
       "      <td>0.766136</td>\n",
       "    </tr>\n",
       "    <tr>\n",
       "      <th>1</th>\n",
       "      <td>0.032158</td>\n",
       "      <td>-0.128442</td>\n",
       "      <td>-1.834906</td>\n",
       "      <td>-0.121342</td>\n",
       "      <td>-0.021906</td>\n",
       "      <td>-0.339934</td>\n",
       "      <td>0.372729</td>\n",
       "      <td>-0.915972</td>\n",
       "      <td>1.023191</td>\n",
       "      <td>-0.832134</td>\n",
       "      <td>...</td>\n",
       "      <td>-0.123688</td>\n",
       "      <td>-1.696453</td>\n",
       "      <td>-0.658287</td>\n",
       "      <td>-0.561178</td>\n",
       "      <td>0.419828</td>\n",
       "      <td>-0.440035</td>\n",
       "      <td>0.833745</td>\n",
       "      <td>0.178147</td>\n",
       "      <td>-0.815015</td>\n",
       "      <td>0.905860</td>\n",
       "    </tr>\n",
       "    <tr>\n",
       "      <th>2</th>\n",
       "      <td>-0.199937</td>\n",
       "      <td>-0.028753</td>\n",
       "      <td>-2.398524</td>\n",
       "      <td>-0.637731</td>\n",
       "      <td>1.166348</td>\n",
       "      <td>0.596078</td>\n",
       "      <td>-0.013232</td>\n",
       "      <td>-0.752613</td>\n",
       "      <td>0.678324</td>\n",
       "      <td>-1.736260</td>\n",
       "      <td>...</td>\n",
       "      <td>-0.229750</td>\n",
       "      <td>-0.769538</td>\n",
       "      <td>-0.851403</td>\n",
       "      <td>-0.231890</td>\n",
       "      <td>0.584862</td>\n",
       "      <td>1.080361</td>\n",
       "      <td>0.125751</td>\n",
       "      <td>0.005236</td>\n",
       "      <td>1.228029</td>\n",
       "      <td>1.105849</td>\n",
       "    </tr>\n",
       "    <tr>\n",
       "      <th>3</th>\n",
       "      <td>-0.300160</td>\n",
       "      <td>-0.346180</td>\n",
       "      <td>0.015976</td>\n",
       "      <td>-1.713135</td>\n",
       "      <td>-1.221905</td>\n",
       "      <td>0.389356</td>\n",
       "      <td>-1.305399</td>\n",
       "      <td>-0.652769</td>\n",
       "      <td>-0.756388</td>\n",
       "      <td>0.165878</td>\n",
       "      <td>...</td>\n",
       "      <td>0.249436</td>\n",
       "      <td>-0.555885</td>\n",
       "      <td>-3.241185</td>\n",
       "      <td>-1.052760</td>\n",
       "      <td>-0.258835</td>\n",
       "      <td>1.840603</td>\n",
       "      <td>-0.359754</td>\n",
       "      <td>1.215159</td>\n",
       "      <td>-0.698710</td>\n",
       "      <td>1.060199</td>\n",
       "    </tr>\n",
       "    <tr>\n",
       "      <th>4</th>\n",
       "      <td>-1.046030</td>\n",
       "      <td>0.240463</td>\n",
       "      <td>-0.328339</td>\n",
       "      <td>-1.352477</td>\n",
       "      <td>1.239525</td>\n",
       "      <td>-0.709218</td>\n",
       "      <td>-0.046456</td>\n",
       "      <td>0.451150</td>\n",
       "      <td>-0.364094</td>\n",
       "      <td>-1.132673</td>\n",
       "      <td>...</td>\n",
       "      <td>0.515615</td>\n",
       "      <td>0.084774</td>\n",
       "      <td>-0.649112</td>\n",
       "      <td>-0.696819</td>\n",
       "      <td>-0.459193</td>\n",
       "      <td>-0.777456</td>\n",
       "      <td>0.344687</td>\n",
       "      <td>0.773429</td>\n",
       "      <td>0.261125</td>\n",
       "      <td>0.139334</td>\n",
       "    </tr>\n",
       "    <tr>\n",
       "      <th>...</th>\n",
       "      <td>...</td>\n",
       "      <td>...</td>\n",
       "      <td>...</td>\n",
       "      <td>...</td>\n",
       "      <td>...</td>\n",
       "      <td>...</td>\n",
       "      <td>...</td>\n",
       "      <td>...</td>\n",
       "      <td>...</td>\n",
       "      <td>...</td>\n",
       "      <td>...</td>\n",
       "      <td>...</td>\n",
       "      <td>...</td>\n",
       "      <td>...</td>\n",
       "      <td>...</td>\n",
       "      <td>...</td>\n",
       "      <td>...</td>\n",
       "      <td>...</td>\n",
       "      <td>...</td>\n",
       "      <td>...</td>\n",
       "      <td>...</td>\n",
       "    </tr>\n",
       "    <tr>\n",
       "      <th>59995</th>\n",
       "      <td>-0.902736</td>\n",
       "      <td>-0.249837</td>\n",
       "      <td>-0.226885</td>\n",
       "      <td>-0.407644</td>\n",
       "      <td>1.635564</td>\n",
       "      <td>-0.194087</td>\n",
       "      <td>-1.340527</td>\n",
       "      <td>-2.312735</td>\n",
       "      <td>1.225056</td>\n",
       "      <td>0.056622</td>\n",
       "      <td>...</td>\n",
       "      <td>0.164121</td>\n",
       "      <td>-1.896606</td>\n",
       "      <td>0.478738</td>\n",
       "      <td>-1.216756</td>\n",
       "      <td>0.582109</td>\n",
       "      <td>-1.387586</td>\n",
       "      <td>-0.243492</td>\n",
       "      <td>-0.434962</td>\n",
       "      <td>-0.401812</td>\n",
       "      <td>0.995004</td>\n",
       "    </tr>\n",
       "    <tr>\n",
       "      <th>59996</th>\n",
       "      <td>0.745309</td>\n",
       "      <td>-0.058677</td>\n",
       "      <td>0.246502</td>\n",
       "      <td>-0.012317</td>\n",
       "      <td>1.760648</td>\n",
       "      <td>0.739456</td>\n",
       "      <td>-0.655697</td>\n",
       "      <td>-0.926947</td>\n",
       "      <td>1.564097</td>\n",
       "      <td>1.808806</td>\n",
       "      <td>...</td>\n",
       "      <td>-1.072589</td>\n",
       "      <td>-1.452610</td>\n",
       "      <td>-0.690153</td>\n",
       "      <td>0.200260</td>\n",
       "      <td>1.111628</td>\n",
       "      <td>-1.003521</td>\n",
       "      <td>0.497093</td>\n",
       "      <td>-0.076202</td>\n",
       "      <td>1.875553</td>\n",
       "      <td>1.129616</td>\n",
       "    </tr>\n",
       "    <tr>\n",
       "      <th>59997</th>\n",
       "      <td>-1.707968</td>\n",
       "      <td>-0.562925</td>\n",
       "      <td>-0.972771</td>\n",
       "      <td>-0.039309</td>\n",
       "      <td>0.441124</td>\n",
       "      <td>-0.591600</td>\n",
       "      <td>-0.776372</td>\n",
       "      <td>0.471142</td>\n",
       "      <td>0.068282</td>\n",
       "      <td>2.557171</td>\n",
       "      <td>...</td>\n",
       "      <td>-1.477619</td>\n",
       "      <td>-1.303692</td>\n",
       "      <td>-0.087015</td>\n",
       "      <td>-0.086673</td>\n",
       "      <td>-0.184286</td>\n",
       "      <td>1.164205</td>\n",
       "      <td>1.263891</td>\n",
       "      <td>-0.686513</td>\n",
       "      <td>-1.291979</td>\n",
       "      <td>0.019888</td>\n",
       "    </tr>\n",
       "    <tr>\n",
       "      <th>59998</th>\n",
       "      <td>-0.478518</td>\n",
       "      <td>-0.731057</td>\n",
       "      <td>-0.481131</td>\n",
       "      <td>-0.604349</td>\n",
       "      <td>-0.218989</td>\n",
       "      <td>0.894533</td>\n",
       "      <td>-1.282527</td>\n",
       "      <td>0.107399</td>\n",
       "      <td>-1.106241</td>\n",
       "      <td>0.394378</td>\n",
       "      <td>...</td>\n",
       "      <td>-0.054655</td>\n",
       "      <td>0.094525</td>\n",
       "      <td>1.445247</td>\n",
       "      <td>0.154746</td>\n",
       "      <td>-0.257240</td>\n",
       "      <td>-2.260526</td>\n",
       "      <td>-0.529008</td>\n",
       "      <td>-2.076204</td>\n",
       "      <td>-0.497492</td>\n",
       "      <td>-1.453499</td>\n",
       "    </tr>\n",
       "    <tr>\n",
       "      <th>59999</th>\n",
       "      <td>0.829653</td>\n",
       "      <td>0.215728</td>\n",
       "      <td>1.778086</td>\n",
       "      <td>-0.374266</td>\n",
       "      <td>0.536322</td>\n",
       "      <td>-1.004627</td>\n",
       "      <td>1.010384</td>\n",
       "      <td>-0.398555</td>\n",
       "      <td>0.669239</td>\n",
       "      <td>1.856081</td>\n",
       "      <td>...</td>\n",
       "      <td>-1.751135</td>\n",
       "      <td>1.161168</td>\n",
       "      <td>-0.663170</td>\n",
       "      <td>1.706685</td>\n",
       "      <td>-0.017330</td>\n",
       "      <td>-0.509670</td>\n",
       "      <td>0.129212</td>\n",
       "      <td>1.852214</td>\n",
       "      <td>-0.174159</td>\n",
       "      <td>-0.021621</td>\n",
       "    </tr>\n",
       "  </tbody>\n",
       "</table>\n",
       "<p>60000 rows × 25 columns</p>\n",
       "</div>"
      ],
      "text/plain": [
       "             0         1         2         3         4         5         6   \\\n",
       "0      0.680585  0.817154  0.668153  0.441601  1.486122 -0.447554  0.201796   \n",
       "1      0.032158 -0.128442 -1.834906 -0.121342 -0.021906 -0.339934  0.372729   \n",
       "2     -0.199937 -0.028753 -2.398524 -0.637731  1.166348  0.596078 -0.013232   \n",
       "3     -0.300160 -0.346180  0.015976 -1.713135 -1.221905  0.389356 -1.305399   \n",
       "4     -1.046030  0.240463 -0.328339 -1.352477  1.239525 -0.709218 -0.046456   \n",
       "...         ...       ...       ...       ...       ...       ...       ...   \n",
       "59995 -0.902736 -0.249837 -0.226885 -0.407644  1.635564 -0.194087 -1.340527   \n",
       "59996  0.745309 -0.058677  0.246502 -0.012317  1.760648  0.739456 -0.655697   \n",
       "59997 -1.707968 -0.562925 -0.972771 -0.039309  0.441124 -0.591600 -0.776372   \n",
       "59998 -0.478518 -0.731057 -0.481131 -0.604349 -0.218989  0.894533 -1.282527   \n",
       "59999  0.829653  0.215728  1.778086 -0.374266  0.536322 -1.004627  1.010384   \n",
       "\n",
       "             7         8         9   ...        15        16        17  \\\n",
       "0      0.231473 -0.595540  0.635947  ...  0.312237 -0.498302 -0.290853   \n",
       "1     -0.915972  1.023191 -0.832134  ... -0.123688 -1.696453 -0.658287   \n",
       "2     -0.752613  0.678324 -1.736260  ... -0.229750 -0.769538 -0.851403   \n",
       "3     -0.652769 -0.756388  0.165878  ...  0.249436 -0.555885 -3.241185   \n",
       "4      0.451150 -0.364094 -1.132673  ...  0.515615  0.084774 -0.649112   \n",
       "...         ...       ...       ...  ...       ...       ...       ...   \n",
       "59995 -2.312735  1.225056  0.056622  ...  0.164121 -1.896606  0.478738   \n",
       "59996 -0.926947  1.564097  1.808806  ... -1.072589 -1.452610 -0.690153   \n",
       "59997  0.471142  0.068282  2.557171  ... -1.477619 -1.303692 -0.087015   \n",
       "59998  0.107399 -1.106241  0.394378  ... -0.054655  0.094525  1.445247   \n",
       "59999 -0.398555  0.669239  1.856081  ... -1.751135  1.161168 -0.663170   \n",
       "\n",
       "             18        19        20        21        22        23        24  \n",
       "0      0.114214 -0.485206  1.291467  0.384246  1.421746 -1.144843  0.766136  \n",
       "1     -0.561178  0.419828 -0.440035  0.833745  0.178147 -0.815015  0.905860  \n",
       "2     -0.231890  0.584862  1.080361  0.125751  0.005236  1.228029  1.105849  \n",
       "3     -1.052760 -0.258835  1.840603 -0.359754  1.215159 -0.698710  1.060199  \n",
       "4     -0.696819 -0.459193 -0.777456  0.344687  0.773429  0.261125  0.139334  \n",
       "...         ...       ...       ...       ...       ...       ...       ...  \n",
       "59995 -1.216756  0.582109 -1.387586 -0.243492 -0.434962 -0.401812  0.995004  \n",
       "59996  0.200260  1.111628 -1.003521  0.497093 -0.076202  1.875553  1.129616  \n",
       "59997 -0.086673 -0.184286  1.164205  1.263891 -0.686513 -1.291979  0.019888  \n",
       "59998  0.154746 -0.257240 -2.260526 -0.529008 -2.076204 -0.497492 -1.453499  \n",
       "59999  1.706685 -0.017330 -0.509670  0.129212  1.852214 -0.174159 -0.021621  \n",
       "\n",
       "[60000 rows x 25 columns]"
      ]
     },
     "execution_count": 10,
     "metadata": {},
     "output_type": "execute_result"
    }
   ],
   "source": [
    "x"
   ]
  },
  {
   "cell_type": "code",
   "execution_count": 12,
   "id": "6ca0f5a4",
   "metadata": {},
   "outputs": [],
   "source": [
    "from sklearn.model_selection import train_test_split"
   ]
  },
  {
   "cell_type": "code",
   "execution_count": 13,
   "id": "c26777e2",
   "metadata": {},
   "outputs": [],
   "source": [
    "xtrain, xtest, ytrain, ytest = train_test_split(x, y, test_size=.25, random_state=1)"
   ]
  },
  {
   "cell_type": "code",
   "execution_count": 14,
   "id": "7d5a5c2a",
   "metadata": {},
   "outputs": [
    {
     "data": {
      "text/plain": [
       "(45000, 25)"
      ]
     },
     "execution_count": 14,
     "metadata": {},
     "output_type": "execute_result"
    }
   ],
   "source": [
    "xtrain.shape"
   ]
  },
  {
   "cell_type": "code",
   "execution_count": 19,
   "id": "a65e432f",
   "metadata": {},
   "outputs": [],
   "source": [
    "train_accuracy = []\n",
    "test_accuracy = []\n",
    "\n",
    "max_features = [n for n in range(1,25)]"
   ]
  },
  {
   "cell_type": "code",
   "execution_count": 20,
   "id": "84d7e3c0",
   "metadata": {},
   "outputs": [
    {
     "data": {
      "text/plain": [
       "[1,\n",
       " 2,\n",
       " 3,\n",
       " 4,\n",
       " 5,\n",
       " 6,\n",
       " 7,\n",
       " 8,\n",
       " 9,\n",
       " 10,\n",
       " 11,\n",
       " 12,\n",
       " 13,\n",
       " 14,\n",
       " 15,\n",
       " 16,\n",
       " 17,\n",
       " 18,\n",
       " 19,\n",
       " 20,\n",
       " 21,\n",
       " 22,\n",
       " 23,\n",
       " 24]"
      ]
     },
     "execution_count": 20,
     "metadata": {},
     "output_type": "execute_result"
    }
   ],
   "source": [
    "max_features"
   ]
  },
  {
   "cell_type": "code",
   "execution_count": 21,
   "id": "0dc35733",
   "metadata": {},
   "outputs": [],
   "source": [
    "from sklearn.tree import DecisionTreeClassifier"
   ]
  },
  {
   "cell_type": "code",
   "execution_count": 22,
   "id": "338a8b37",
   "metadata": {},
   "outputs": [
    {
     "name": "stdout",
     "output_type": "stream",
     "text": [
      "Max Depth =1, Train Acc = 0.936822 , Test Acc=0.934733\n",
      "Max Depth =2, Train Acc = 0.936822 , Test Acc=0.934733\n",
      "Max Depth =3, Train Acc = 0.972644 , Test Acc=0.971267\n",
      "Max Depth =4, Train Acc = 0.984000 , Test Acc=0.983600\n",
      "Max Depth =5, Train Acc = 0.984422 , Test Acc=0.983467\n",
      "Max Depth =6, Train Acc = 0.985089 , Test Acc=0.983600\n",
      "Max Depth =7, Train Acc = 0.985844 , Test Acc=0.983667\n",
      "Max Depth =8, Train Acc = 0.986644 , Test Acc=0.982000\n",
      "Max Depth =9, Train Acc = 0.987933 , Test Acc=0.981733\n",
      "Max Depth =10, Train Acc = 0.988578 , Test Acc=0.982667\n",
      "Max Depth =11, Train Acc = 0.989378 , Test Acc=0.982067\n",
      "Max Depth =12, Train Acc = 0.990267 , Test Acc=0.980800\n",
      "Max Depth =13, Train Acc = 0.991222 , Test Acc=0.979667\n",
      "Max Depth =14, Train Acc = 0.991844 , Test Acc=0.979200\n",
      "Max Depth =15, Train Acc = 0.992556 , Test Acc=0.979000\n",
      "Max Depth =16, Train Acc = 0.993489 , Test Acc=0.978333\n",
      "Max Depth =17, Train Acc = 0.994067 , Test Acc=0.977200\n",
      "Max Depth =18, Train Acc = 0.994578 , Test Acc=0.977733\n",
      "Max Depth =19, Train Acc = 0.995044 , Test Acc=0.977333\n",
      "Max Depth =20, Train Acc = 0.995378 , Test Acc=0.977600\n",
      "Max Depth =21, Train Acc = 0.995733 , Test Acc=0.976733\n",
      "Max Depth =22, Train Acc = 0.996244 , Test Acc=0.975267\n",
      "Max Depth =23, Train Acc = 0.996600 , Test Acc=0.976133\n",
      "Max Depth =24, Train Acc = 0.996867 , Test Acc=0.976000\n"
     ]
    }
   ],
   "source": [
    "for depth in max_features:\n",
    "    clf = DecisionTreeClassifier(max_depth=depth)\n",
    "    clf.fit(xtrain, ytrain) # training\n",
    "    \n",
    "    #train accuracy\n",
    "    train_acc = clf.score(xtrain, ytrain)\n",
    "    train_accuracy.append(train_acc)\n",
    "    \n",
    "    #test accuracy\n",
    "    test_acc = clf.score(xtest, ytest)\n",
    "    test_accuracy.append(test_acc)\n",
    "    \n",
    "    print('Max Depth =%d, Train Acc = %f , Test Acc=%f' %(depth,train_acc,test_acc))"
   ]
  },
  {
   "cell_type": "code",
   "execution_count": 24,
   "id": "f0ec4789",
   "metadata": {},
   "outputs": [
    {
     "data": {
      "text/plain": [
       "[<matplotlib.lines.Line2D at 0x2574688ac70>]"
      ]
     },
     "execution_count": 24,
     "metadata": {},
     "output_type": "execute_result"
    },
    {
     "data": {
      "image/png": "[encoded data removed]",
      "text/plain": [
       "<Figure size 432x288 with 1 Axes>"
      ]
     },
     "metadata": {
      "needs_background": "light"
     },
     "output_type": "display_data"
    }
   ],
   "source": [
    "from matplotlib import pyplot as plt\n",
    "plt.plot(max_features,train_accuracy)\n",
    "plt.plot(max_features,test_accuracy)"
   ]
  },
  {
   "cell_type": "code",
   "execution_count": 26,
   "id": "ce261b0c",
   "metadata": {},
   "outputs": [
    {
     "data": {
      "text/plain": [
       "<matplotlib.legend.Legend at 0x257469d6e80>"
      ]
     },
     "execution_count": 26,
     "metadata": {},
     "output_type": "execute_result"
    },
    {
     "data": {
      "image/png": "[encoded data removed]",
      "text/plain": [
       "<Figure size 432x288 with 1 Axes>"
      ]
     },
     "metadata": {
      "needs_background": "light"
     },
     "output_type": "display_data"
    }
   ],
   "source": [
    "from matplotlib import pyplot as plt\n",
    "plt.plot(max_features,train_accuracy, '-o', color='black',label='Train')\n",
    "plt.plot(max_features,test_accuracy,'-o',color='green', label='Test')\n",
    "plt.legend()"
   ]
  },
  {
   "cell_type": "code",
   "execution_count": null,
   "id": "9dd87094",
   "metadata": {},
   "outputs": [],
   "source": []
  }
 ],
 "metadata": {
  "kernelspec": {
   "display_name": "Python 3",
   "language": "python",
   "name": "python3"
  },
  "language_info": {
   "codemirror_mode": {
    "name": "ipython",
    "version": 3
   },
   "file_extension": ".py",
   "mimetype": "text/x-python",
   "name": "python",
   "nbconvert_exporter": "python",
   "pygments_lexer": "ipython3",
   "version": "3.8.8"
  }
 },
 "nbformat": 4,
 "nbformat_minor": 5
}
