{
 "cells": [
  {
   "cell_type": "markdown",
   "metadata": {},
   "source": [
    "### Basic Python"
   ]
  },
  {
   "cell_type": "code",
   "execution_count": 1,
   "metadata": {},
   "outputs": [
    {
     "name": "stdout",
     "output_type": "stream",
     "text": [
      "Hello World\n"
     ]
    }
   ],
   "source": [
    "print(\"Hello World\")"
   ]
  },
  {
   "cell_type": "code",
   "execution_count": 2,
   "metadata": {},
   "outputs": [
    {
     "name": "stdout",
     "output_type": "stream",
     "text": [
      "100\n"
     ]
    }
   ],
   "source": [
    "print(100)"
   ]
  },
  {
   "cell_type": "code",
   "execution_count": 3,
   "metadata": {},
   "outputs": [
    {
     "data": {
      "text/plain": [
       "str"
      ]
     },
     "execution_count": 3,
     "metadata": {},
     "output_type": "execute_result"
    }
   ],
   "source": [
    "type(\"Hello World\")"
   ]
  },
  {
   "cell_type": "code",
   "execution_count": 4,
   "metadata": {},
   "outputs": [
    {
     "name": "stdout",
     "output_type": "stream",
     "text": [
      "Hello Word | Hello World \\ Hello World\n"
     ]
    }
   ],
   "source": [
    "print(\"Hello Word\",\"Hello World\",sep=' | ',end=' \\ ')\n",
    "print(\"Hello World\")"
   ]
  },
  {
   "cell_type": "code",
   "execution_count": 5,
   "metadata": {},
   "outputs": [
    {
     "name": "stdout",
     "output_type": "stream",
     "text": [
      "Hello World\n",
      "Hello World\n",
      "Hello World\n"
     ]
    }
   ],
   "source": [
    "print(\"Hello World\")\n",
    "print(\"Hello World\")\n",
    "print(\"Hello World\")"
   ]
  },
  {
   "cell_type": "code",
   "execution_count": 6,
   "metadata": {},
   "outputs": [
    {
     "name": "stdout",
     "output_type": "stream",
     "text": [
      "Hello Word | Hello World Hello World\n"
     ]
    }
   ],
   "source": [
    "print(\"Hello Word\",\"Hello World\",sep=' | ',end=' ')\n",
    "print(\"Hello World\")"
   ]
  },
  {
   "cell_type": "markdown",
   "metadata": {},
   "source": [
    "### variable "
   ]
  },
  {
   "cell_type": "code",
   "execution_count": 7,
   "metadata": {},
   "outputs": [
    {
     "data": {
      "text/plain": [
       "'\\nVariables are like a container to storing data.\\n▪ Compare to other programming languages, Python has no command for declaring a variable.\\n▪ A variable is created the moment you first assign a value to it.\\n'"
      ]
     },
     "execution_count": 7,
     "metadata": {},
     "output_type": "execute_result"
    }
   ],
   "source": [
    "'''\n",
    "Variables are like a container to storing data.\n",
    "▪ Compare to other programming languages, Python has no command for declaring a variable.\n",
    "▪ A variable is created the moment you first assign a value to it.\n",
    "'''"
   ]
  },
  {
   "cell_type": "code",
   "execution_count": 8,
   "metadata": {},
   "outputs": [
    {
     "data": {
      "text/plain": [
       "'\\nA variable can have a short name (like x and y) or a more descriptive name.\\n▪ Keywords can’t use as a variable.\\n▪ A variable name must start with a letter or the underscore ( _ ) character.\\n▪ A variable name cannot start with a number.\\n▪ A variable name can only contain alpha-numeric characters and underscores (A-Z, 0-9, and _ ).\\n▪ Variable names are case-sensitive (x, X, _x are three different variable).git/\\n'"
      ]
     },
     "execution_count": 8,
     "metadata": {},
     "output_type": "execute_result"
    }
   ],
   "source": [
    "'''\n",
    "A variable can have a short name (like x and y) or a more descriptive name.\n",
    "▪ Keywords can’t use as a variable.\n",
    "▪ A variable name must start with a letter or the underscore ( _ ) character.\n",
    "▪ A variable name cannot start with a number.\n",
    "▪ A variable name can only contain alpha-numeric characters and underscores (A-Z, 0-9, and _ ).\n",
    "▪ Variable names are case-sensitive (x, X, _x are three different variable).git/\n",
    "'''"
   ]
  },
  {
   "cell_type": "code",
   "execution_count": 9,
   "metadata": {},
   "outputs": [
    {
     "data": {
      "text/plain": [
       "'\\nValid Example:\\nVar = 10\\nVar2 = 100\\n_var = 20\\nVar_2 = 10\\nV1a2r3 = 30\\nMy_name = ‘shakil’\\n\\nInvalid Example:\\n9Var = ‘data science’\\nVar-2 = ‘study mart’\\n&var = 20\\nMy name = ‘shakil’\\n'"
      ]
     },
     "execution_count": 9,
     "metadata": {},
     "output_type": "execute_result"
    }
   ],
   "source": [
    "'''\n",
    "Valid Example:\n",
    "Var = 10\n",
    "Var2 = 100\n",
    "_var = 20\n",
    "Var_2 = 10\n",
    "V1a2r3 = 30\n",
    "My_name = ‘shakil’\n",
    "\n",
    "Invalid Example:\n",
    "9Var = ‘data science’\n",
    "Var-2 = ‘study mart’\n",
    "&var = 20\n",
    "My name = ‘shakil’\n",
    "'''"
   ]
  },
  {
   "cell_type": "code",
   "execution_count": 10,
   "metadata": {},
   "outputs": [
    {
     "data": {
      "text/plain": [
       "'\\nMultiple Variables:\\n▪ x, y, z = “Data\", “Science\", “Smart“ -> Valid\\n\\n▪ x, y, z = “Data\", “Science“ -> Invalid\\nAll about Python Variables\\n\\n▪ Comments:\\n\\n▪ Single Line\\n▪ Multiple Line\\n'"
      ]
     },
     "execution_count": 10,
     "metadata": {},
     "output_type": "execute_result"
    }
   ],
   "source": [
    "'''\n",
    "Multiple Variables:\n",
    "▪ x, y, z = “Data\", “Science\", “Smart“ -> Valid\n",
    "\n",
    "▪ x, y, z = “Data\", “Science“ -> Invalid\n",
    "All about Python Variables\n",
    "\n",
    "▪ Comments:\n",
    "\n",
    "▪ Single Line\n",
    "▪ Multiple Line\n",
    "'''"
   ]
  },
  {
   "cell_type": "code",
   "execution_count": 11,
   "metadata": {},
   "outputs": [
    {
     "data": {
      "text/plain": [
       "'\\nMulti Word Variable Name\\n▪ camelCaseVar\\n▪ PascalCaseVar\\n▪ snake_case_var\\n'"
      ]
     },
     "execution_count": 11,
     "metadata": {},
     "output_type": "execute_result"
    }
   ],
   "source": [
    "'''\n",
    "Multi Word Variable Name\n",
    "▪ camelCaseVar\n",
    "▪ PascalCaseVar\n",
    "▪ snake_case_var\n",
    "'''"
   ]
  },
  {
   "cell_type": "markdown",
   "metadata": {},
   "source": [
    "### valid variable"
   ]
  },
  {
   "cell_type": "code",
   "execution_count": 12,
   "metadata": {},
   "outputs": [],
   "source": [
    "var=100"
   ]
  },
  {
   "cell_type": "code",
   "execution_count": 13,
   "metadata": {},
   "outputs": [
    {
     "name": "stdout",
     "output_type": "stream",
     "text": [
      "100\n"
     ]
    }
   ],
   "source": [
    "print(var)"
   ]
  },
  {
   "cell_type": "code",
   "execution_count": 14,
   "metadata": {},
   "outputs": [
    {
     "data": {
      "text/plain": [
       "'data science'"
      ]
     },
     "execution_count": 14,
     "metadata": {},
     "output_type": "execute_result"
    }
   ],
   "source": [
    "var=\"data science\"\n",
    "var"
   ]
  },
  {
   "cell_type": "code",
   "execution_count": 15,
   "metadata": {},
   "outputs": [
    {
     "name": "stdout",
     "output_type": "stream",
     "text": [
      "10\n"
     ]
    }
   ],
   "source": [
    "var=10\n",
    "print(var)"
   ]
  },
  {
   "cell_type": "code",
   "execution_count": 16,
   "metadata": {},
   "outputs": [
    {
     "name": "stdout",
     "output_type": "stream",
     "text": [
      "100\n"
     ]
    }
   ],
   "source": [
    "var2=100\n",
    "print(var2)"
   ]
  },
  {
   "cell_type": "code",
   "execution_count": 17,
   "metadata": {},
   "outputs": [
    {
     "name": "stdout",
     "output_type": "stream",
     "text": [
      "20\n"
     ]
    }
   ],
   "source": [
    "_var=20\n",
    "print(_var)"
   ]
  },
  {
   "cell_type": "code",
   "execution_count": 18,
   "metadata": {},
   "outputs": [
    {
     "name": "stdout",
     "output_type": "stream",
     "text": [
      "10\n"
     ]
    }
   ],
   "source": [
    "var_2=10\n",
    "print(var_2)"
   ]
  },
  {
   "cell_type": "code",
   "execution_count": 19,
   "metadata": {},
   "outputs": [
    {
     "name": "stdout",
     "output_type": "stream",
     "text": [
      "30\n"
     ]
    }
   ],
   "source": [
    "v1a2rc=30\n",
    "print(v1a2rc)"
   ]
  },
  {
   "cell_type": "code",
   "execution_count": 20,
   "metadata": {},
   "outputs": [
    {
     "name": "stdout",
     "output_type": "stream",
     "text": [
      "Hamid Hosen\n"
     ]
    }
   ],
   "source": [
    "my_name=\"Hamid Hosen\"\n",
    "print(my_name)"
   ]
  },
  {
   "cell_type": "markdown",
   "metadata": {},
   "source": [
    "### invalid variable"
   ]
  },
  {
   "cell_type": "code",
   "execution_count": 21,
   "metadata": {},
   "outputs": [
    {
     "ename": "SyntaxError",
     "evalue": "invalid syntax (531981437.py, line 1)",
     "output_type": "error",
     "traceback": [
      "\u001b[1;36m  Input \u001b[1;32mIn [21]\u001b[1;36m\u001b[0m\n\u001b[1;33m    9var=\"hamid hosen\"\u001b[0m\n\u001b[1;37m     ^\u001b[0m\n\u001b[1;31mSyntaxError\u001b[0m\u001b[1;31m:\u001b[0m invalid syntax\n"
     ]
    }
   ],
   "source": [
    "9var=\"hamid hosen\"\n",
    "print(9var)"
   ]
  },
  {
   "cell_type": "code",
   "execution_count": 22,
   "metadata": {},
   "outputs": [
    {
     "ename": "SyntaxError",
     "evalue": "cannot assign to operator (2312105829.py, line 1)",
     "output_type": "error",
     "traceback": [
      "\u001b[1;36m  Input \u001b[1;32mIn [22]\u001b[1;36m\u001b[0m\n\u001b[1;33m    var-2=\"Hamid Hosen\"\u001b[0m\n\u001b[1;37m    ^\u001b[0m\n\u001b[1;31mSyntaxError\u001b[0m\u001b[1;31m:\u001b[0m cannot assign to operator\n"
     ]
    }
   ],
   "source": [
    "var-2=\"Hamid Hosen\"\n",
    "print(var-2)"
   ]
  },
  {
   "cell_type": "code",
   "execution_count": 23,
   "metadata": {},
   "outputs": [
    {
     "ename": "SyntaxError",
     "evalue": "invalid syntax (431511653.py, line 1)",
     "output_type": "error",
     "traceback": [
      "\u001b[1;36m  Input \u001b[1;32mIn [23]\u001b[1;36m\u001b[0m\n\u001b[1;33m    &var=20\u001b[0m\n\u001b[1;37m    ^\u001b[0m\n\u001b[1;31mSyntaxError\u001b[0m\u001b[1;31m:\u001b[0m invalid syntax\n"
     ]
    }
   ],
   "source": [
    "&var=20\n",
    "print(&var)"
   ]
  },
  {
   "cell_type": "code",
   "execution_count": 24,
   "metadata": {},
   "outputs": [
    {
     "ename": "SyntaxError",
     "evalue": "invalid syntax (847765992.py, line 1)",
     "output_type": "error",
     "traceback": [
      "\u001b[1;36m  Input \u001b[1;32mIn [24]\u001b[1;36m\u001b[0m\n\u001b[1;33m    my name=\"Hamid Hosen\"\u001b[0m\n\u001b[1;37m       ^\u001b[0m\n\u001b[1;31mSyntaxError\u001b[0m\u001b[1;31m:\u001b[0m invalid syntax\n"
     ]
    }
   ],
   "source": [
    "my name=\"Hamid Hosen\"\n",
    "print(my name)"
   ]
  },
  {
   "cell_type": "code",
   "execution_count": 25,
   "metadata": {},
   "outputs": [
    {
     "data": {
      "text/plain": [
       "'\\n** Multiple Variables:\\n▪ x, y, z = “Data\", “Science\", “Smart“ -> Valid\\n\\n▪ x, y, z = “Data\", “Science“ -> Invalid\\n'"
      ]
     },
     "execution_count": 25,
     "metadata": {},
     "output_type": "execute_result"
    }
   ],
   "source": [
    "'''\n",
    "** Multiple Variables:\n",
    "▪ x, y, z = “Data\", “Science\", “Smart“ -> Valid\n",
    "\n",
    "▪ x, y, z = “Data\", “Science“ -> Invalid\n",
    "'''"
   ]
  },
  {
   "cell_type": "code",
   "execution_count": 26,
   "metadata": {},
   "outputs": [
    {
     "name": "stdout",
     "output_type": "stream",
     "text": [
      "10 12 13\n"
     ]
    }
   ],
   "source": [
    "x,y,z=10,12,13\n",
    "print(x,y,z)"
   ]
  },
  {
   "cell_type": "code",
   "execution_count": 27,
   "metadata": {},
   "outputs": [
    {
     "ename": "ValueError",
     "evalue": "not enough values to unpack (expected 3, got 2)",
     "output_type": "error",
     "traceback": [
      "\u001b[1;31m---------------------------------------------------------------------------\u001b[0m",
      "\u001b[1;31mValueError\u001b[0m                                Traceback (most recent call last)",
      "Input \u001b[1;32mIn [27]\u001b[0m, in \u001b[0;36m<cell line: 1>\u001b[1;34m()\u001b[0m\n\u001b[1;32m----> 1\u001b[0m a,b,c\u001b[38;5;241m=\u001b[39m\u001b[38;5;241m10\u001b[39m,\u001b[38;5;241m12\u001b[39m\n\u001b[0;32m      2\u001b[0m \u001b[38;5;28mprint\u001b[39m(a,b,c)\n",
      "\u001b[1;31mValueError\u001b[0m: not enough values to unpack (expected 3, got 2)"
     ]
    }
   ],
   "source": [
    "a,b,c=10,12\n",
    "print(a,b,c)"
   ]
  },
  {
   "cell_type": "code",
   "execution_count": 28,
   "metadata": {},
   "outputs": [
    {
     "data": {
      "text/plain": [
       "'\\nGlobal Variable: Variables that are created outside of a function are known as global variables. Global\\nvariables can be used by everyone, both inside of functions and outside.\\n▪ Local Variable: Variables that are created inside of a function are known as local variables. local\\nvariables can be used by inside of function.\\n'"
      ]
     },
     "execution_count": 28,
     "metadata": {},
     "output_type": "execute_result"
    }
   ],
   "source": [
    "'''\n",
    "Global Variable: Variables that are created outside of a function are known as global variables. Global\n",
    "variables can be used by everyone, both inside of functions and outside.\n",
    "▪ Local Variable: Variables that are created inside of a function are known as local variables. local\n",
    "variables can be used by inside of function.\n",
    "'''"
   ]
  },
  {
   "cell_type": "markdown",
   "metadata": {},
   "source": [
    "### Global and local"
   ]
  },
  {
   "cell_type": "code",
   "execution_count": 29,
   "metadata": {},
   "outputs": [
    {
     "name": "stdout",
     "output_type": "stream",
     "text": [
      "This is 1: 100\n",
      "This is 2: 100\n"
     ]
    }
   ],
   "source": [
    "x=100\n",
    "\n",
    "def myFunction():\n",
    "    print(\"This is 1:\",x)\n",
    "\n",
    "myFunction()\n",
    "print(\"This is 2:\",x)"
   ]
  },
  {
   "cell_type": "code",
   "execution_count": 30,
   "metadata": {},
   "outputs": [
    {
     "name": "stdout",
     "output_type": "stream",
     "text": [
      "This is 1: 100\n"
     ]
    },
    {
     "ename": "NameError",
     "evalue": "name 'd' is not defined",
     "output_type": "error",
     "traceback": [
      "\u001b[1;31m---------------------------------------------------------------------------\u001b[0m",
      "\u001b[1;31mNameError\u001b[0m                                 Traceback (most recent call last)",
      "Input \u001b[1;32mIn [30]\u001b[0m, in \u001b[0;36m<cell line: 6>\u001b[1;34m()\u001b[0m\n\u001b[0;32m      3\u001b[0m     \u001b[38;5;28mprint\u001b[39m(\u001b[38;5;124m\"\u001b[39m\u001b[38;5;124mThis is 1:\u001b[39m\u001b[38;5;124m\"\u001b[39m,d)\n\u001b[0;32m      5\u001b[0m myFunction()\n\u001b[1;32m----> 6\u001b[0m \u001b[38;5;28mprint\u001b[39m(\u001b[38;5;124m\"\u001b[39m\u001b[38;5;124mThis is 2:\u001b[39m\u001b[38;5;124m\"\u001b[39m,\u001b[43md\u001b[49m)\n",
      "\u001b[1;31mNameError\u001b[0m: name 'd' is not defined"
     ]
    }
   ],
   "source": [
    "def myFunction():\n",
    "    d=100\n",
    "    print(\"This is 1:\",d)\n",
    "\n",
    "myFunction()\n",
    "print(\"This is 2:\",d)"
   ]
  },
  {
   "cell_type": "code",
   "execution_count": 31,
   "metadata": {},
   "outputs": [
    {
     "name": "stdout",
     "output_type": "stream",
     "text": [
      "This is 1: 100\n",
      "This is 2: 100\n"
     ]
    }
   ],
   "source": [
    "def myFunction():\n",
    "    global d\n",
    "    d=100\n",
    "    print(\"This is 1:\",d)\n",
    "\n",
    "myFunction()\n",
    "print(\"This is 2:\",d)"
   ]
  },
  {
   "cell_type": "markdown",
   "metadata": {},
   "source": [
    "**All about Python Strings**"
   ]
  },
  {
   "cell_type": "code",
   "execution_count": 32,
   "metadata": {},
   "outputs": [
    {
     "data": {
      "text/plain": [
       "'Hamid Hosen'"
      ]
     },
     "execution_count": 32,
     "metadata": {},
     "output_type": "execute_result"
    }
   ],
   "source": [
    "a=\"Hamid Hosen\"\n",
    "a"
   ]
  },
  {
   "cell_type": "code",
   "execution_count": 33,
   "metadata": {},
   "outputs": [
    {
     "data": {
      "text/plain": [
       "11"
      ]
     },
     "execution_count": 33,
     "metadata": {},
     "output_type": "execute_result"
    }
   ],
   "source": [
    "len(a)"
   ]
  },
  {
   "cell_type": "code",
   "execution_count": 34,
   "metadata": {},
   "outputs": [
    {
     "data": {
      "text/plain": [
       "'hamid hosen'"
      ]
     },
     "execution_count": 34,
     "metadata": {},
     "output_type": "execute_result"
    }
   ],
   "source": [
    "a.lower()"
   ]
  },
  {
   "cell_type": "code",
   "execution_count": 35,
   "metadata": {},
   "outputs": [
    {
     "data": {
      "text/plain": [
       "'HAMID HOSEN'"
      ]
     },
     "execution_count": 35,
     "metadata": {},
     "output_type": "execute_result"
    }
   ],
   "source": [
    "a.upper()"
   ]
  },
  {
   "cell_type": "code",
   "execution_count": 36,
   "metadata": {},
   "outputs": [
    {
     "data": {
      "text/plain": [
       "'Hamid Hosen'"
      ]
     },
     "execution_count": 36,
     "metadata": {},
     "output_type": "execute_result"
    }
   ],
   "source": [
    "a.strip()"
   ]
  },
  {
   "cell_type": "code",
   "execution_count": 37,
   "metadata": {},
   "outputs": [
    {
     "data": {
      "text/plain": [
       "['Hamid', 'Hosen']"
      ]
     },
     "execution_count": 37,
     "metadata": {},
     "output_type": "execute_result"
    }
   ],
   "source": [
    "a.split()"
   ]
  },
  {
   "cell_type": "code",
   "execution_count": 38,
   "metadata": {},
   "outputs": [
    {
     "data": {
      "text/plain": [
       "'Azad Hosen'"
      ]
     },
     "execution_count": 38,
     "metadata": {},
     "output_type": "execute_result"
    }
   ],
   "source": [
    "a.replace(\"Hamid\",\"Azad\")"
   ]
  },
  {
   "cell_type": "code",
   "execution_count": 39,
   "metadata": {},
   "outputs": [
    {
     "data": {
      "text/plain": [
       "'Hamid Hosen'"
      ]
     },
     "execution_count": 39,
     "metadata": {},
     "output_type": "execute_result"
    }
   ],
   "source": [
    "a"
   ]
  },
  {
   "cell_type": "code",
   "execution_count": 40,
   "metadata": {},
   "outputs": [
    {
     "name": "stdout",
     "output_type": "stream",
     "text": [
      "Original String: Hello World!\n"
     ]
    }
   ],
   "source": [
    "# let us create a test string\n",
    "\n",
    "testString1 =\"Hello World!\"\n",
    "print (\"Original String: \"+ testString1)"
   ]
  },
  {
   "cell_type": "code",
   "execution_count": 41,
   "metadata": {},
   "outputs": [
    {
     "name": "stdout",
     "output_type": "stream",
     "text": [
      "Converting to LowerCase\n",
      "hello world!\n"
     ]
    }
   ],
   "source": [
    "# Print this string in lower case\n",
    "\n",
    "# Converting a string to lower case\n",
    "print(\"Converting to LowerCase\")\n",
    "print (testString1.lower())"
   ]
  },
  {
   "cell_type": "code",
   "execution_count": 42,
   "metadata": {},
   "outputs": [
    {
     "name": "stdout",
     "output_type": "stream",
     "text": [
      "thxs xs a wxld strxng\n",
      "thxs xs a wild string\n",
      "THIS IS A WILD STRING\n",
      "this is a wild string\n",
      "65\n",
      "_\n",
      "YesYesYesYesYes\n",
      "t\n",
      "th\n",
      "his is a wild string\n",
      "ti sawl tig\n",
      "gnirts dliw a si siht\n",
      "g\n",
      "ng\n",
      "wild is found in txt\n",
      "is not found in txt\n",
      "Starts with this\n",
      "Ends with ing\n",
      "('random', '-', 'data')\n",
      "r\n",
      "a\n",
      "n\n",
      "d\n",
      "o\n",
      "m\n",
      "-\n",
      "d\n",
      "a\n",
      "t\n",
      "a\n",
      "My price 9,749,000.00\n"
     ]
    }
   ],
   "source": [
    "txt = \"this is a wild string\"\n",
    "\n",
    "print(txt.replace(\"i\", \"x\"))  # print string with all i characters replaced with x\n",
    "print(txt.replace(\"i\", \"x\", 2))  # print string with first two i characters found with x\n",
    "print(txt.upper())  # print string in all uppercase letters\n",
    "print(txt.lower())  # print string in all uppercase letters\n",
    "\n",
    "print(ord('A'))  # print the ordinal value of a character\n",
    "print(chr(95))  # print character from its ordinal value\n",
    "print('Yes' * 5) # print string Yes 5 times\n",
    "\n",
    "# Reference strings by index\n",
    "print(txt[0])  # print first letter of string from starting index\n",
    "print(txt[0:2])  # print first two letters from starting index\n",
    "print(txt[1:])  # print all characters except the first letter\n",
    "print(txt[0::2])  # print every second character\n",
    "print(txt[::-1])  # print string in reverse\n",
    "print(txt[-1])  # print the last character in a string\n",
    "print(txt[-2:])  # print the last who characters in a string\n",
    "\n",
    "# check if a wild is found in txt\n",
    "if \"wild\" in txt:\n",
    "  print(\"wild is found in txt\")\n",
    "\n",
    "# check if a blah is not found in txt\n",
    "if \"blah\" not in txt:\n",
    "  print(\"is not found in txt\")\n",
    "\n",
    "# Check if txt starts with this\n",
    "if txt.startswith(\"this\"):\n",
    "  print(\"Starts with this\")\n",
    "\n",
    "# check if txt ends with ing\n",
    "if txt.endswith(\"ing\"):\n",
    "  print(\"Ends with ing\")\n",
    "\n",
    "# Split a string into a tuple when the delimiter is first encountered\n",
    "txt = 'random-data'\n",
    "\n",
    "data_split = txt.partition('-')\n",
    "print(data_split)\n",
    "# output ('random', '-', 'data')\n",
    "\n",
    "len(txt)  # Return length of string\n",
    "\n",
    "# loop through each character in string\n",
    "for char in txt:\n",
    "  print(char)\n",
    "\n",
    "# Display price with commas and 2 digit precision\n",
    "price = 9749000\n",
    "display_price = f\"My price {price:,.2f}\"\n",
    "print(display_price)"
   ]
  },
  {
   "cell_type": "markdown",
   "metadata": {},
   "source": [
    "# Condition: if, elif, else"
   ]
  },
  {
   "cell_type": "raw",
   "metadata": {},
   "source": [
    "Python supports the usual logical conditions from mathematics:\n",
    "\n",
    "▪ Equals: a == b\n",
    "▪ Not Equals: a != b\n",
    "▪ Greater than: a > b\n",
    "▪ Greater than or equal to: a >= b\n",
    "▪ Less than: a < b\n",
    "▪ Less than or equal to: a <= b"
   ]
  },
  {
   "cell_type": "code",
   "execution_count": 43,
   "metadata": {},
   "outputs": [
    {
     "name": "stdout",
     "output_type": "stream",
     "text": [
      "y is greater than x\n"
     ]
    }
   ],
   "source": [
    "x = 50\n",
    "y = 100\n",
    "\n",
    "if y > x:\n",
    "    print(\"y is greater than x\")\n",
    "elif x == y:\n",
    "    print(\"x and y are equal\")\n",
    "else:\n",
    "    print(\"x is y greater than y \")"
   ]
  },
  {
   "cell_type": "markdown",
   "metadata": {},
   "source": [
    "# Python Indentation Rules"
   ]
  },
  {
   "cell_type": "markdown",
   "metadata": {},
   "source": [
    "![Python Indentation Rules](image/1-python_Indentation.png)"
   ]
  },
  {
   "cell_type": "code",
   "execution_count": 44,
   "metadata": {},
   "outputs": [
    {
     "name": "stdout",
     "output_type": "stream",
     "text": [
      "Sabbas\n",
      "Okey\n"
     ]
    }
   ],
   "source": [
    "x=10\n",
    "y=200\n",
    "\n",
    "if(x>y):\n",
    "    print(\"No\")\n",
    "elif (x==y):\n",
    "    print(\"Okey\")\n",
    "elif (x<y):\n",
    "    print(\"Sabbas\")\n",
    "    if x!=10:\n",
    "        print(\"Sabbas\")\n",
    "    else:\n",
    "        print(\"Okey\")\n",
    "else:\n",
    "    print(\"Done\")"
   ]
  },
  {
   "cell_type": "code",
   "execution_count": 45,
   "metadata": {},
   "outputs": [
    {
     "name": "stdout",
     "output_type": "stream",
     "text": [
      "Enter your number1:10\n",
      "Enter your number2:100\n",
      "Num1 is not Equal num1 and num2\n",
      "Num1 is  Less than Num2\n",
      "Num1 is Less than or equal Num2\n"
     ]
    }
   ],
   "source": [
    "num1=int(input(\"Enter your number1:\")) #10\n",
    "num2=int(input(\"Enter your number2:\")) #100\n",
    "\n",
    "if(num1==num2):\n",
    "    print(\"Equal num1 and num2\")\n",
    "if(num1!=num2):\n",
    "    print(\"Num1 is not Equal num1 and num2\")\n",
    "if(num1>num2):\n",
    "    print(\"Num1 is Grater than num2\")\n",
    "if(num1>=num2):\n",
    "    print(\"Num1 is Greater than or equal Num2\")\n",
    "if(num1<num2):\n",
    "    print(\"Num1 is  Less than Num2\")\n",
    "if(num1<=num2):\n",
    "    print(\"Num1 is Less than or equal Num2\")"
   ]
  },
  {
   "cell_type": "code",
   "execution_count": 49,
   "metadata": {},
   "outputs": [
    {
     "name": "stdout",
     "output_type": "stream",
     "text": [
      "Enter your number1:10\n",
      "Enter your number2:100\n",
      "num2 is greater than num1\n"
     ]
    }
   ],
   "source": [
    "num1=int(input(\"Enter your number1:\"))#10\n",
    "num2=int(input(\"Enter your number2:\"))#100\n",
    "\n",
    "if(num1 >num2 ):\n",
    "    print(\"num1 is greater than num2\")\n",
    "elif (num1 == num2):\n",
    "    print(\"num1 and num2\")\n",
    "else:\n",
    "    print(\"num2 is greater than num1\")"
   ]
  },
  {
   "cell_type": "markdown",
   "metadata": {},
   "source": [
    "### Loop"
   ]
  },
  {
   "cell_type": "markdown",
   "metadata": {},
   "source": [
    "![for loop](image/2-for_loop.png)"
   ]
  },
  {
   "cell_type": "code",
   "execution_count": 50,
   "metadata": {},
   "outputs": [
    {
     "name": "stdout",
     "output_type": "stream",
     "text": [
      "0\n",
      "1\n",
      "2\n",
      "3\n",
      "4\n",
      "5\n",
      "6\n",
      "7\n",
      "8\n",
      "9\n"
     ]
    }
   ],
   "source": [
    "for i in range(10):\n",
    "    print(i)"
   ]
  },
  {
   "cell_type": "code",
   "execution_count": 51,
   "metadata": {},
   "outputs": [
    {
     "name": "stdout",
     "output_type": "stream",
     "text": [
      "abc 0\n",
      "def 1\n",
      "fds 2\n"
     ]
    }
   ],
   "source": [
    "x=['abc','def','fds']\n",
    "\n",
    "for y in range(len(x)):\n",
    "    print(x[y],y)"
   ]
  },
  {
   "cell_type": "code",
   "execution_count": 52,
   "metadata": {},
   "outputs": [
    {
     "name": "stdout",
     "output_type": "stream",
     "text": [
      "ai\n",
      "data science\n",
      "statistics\n",
      "math\n"
     ]
    }
   ],
   "source": [
    "subjects = [\"ai\", \"data science\", \"statistics\", \"math\"]\n",
    "for x in subjects :\n",
    "    print(x)"
   ]
  },
  {
   "cell_type": "code",
   "execution_count": 53,
   "metadata": {},
   "outputs": [
    {
     "name": "stdout",
     "output_type": "stream",
     "text": [
      "1\n",
      "2\n",
      "3\n",
      "4\n",
      "5\n",
      "6\n",
      "7\n",
      "8\n",
      "9\n",
      "10\n"
     ]
    }
   ],
   "source": [
    "i=1\n",
    "\n",
    "while i<11:\n",
    "    print(i)\n",
    "    i=i+1"
   ]
  },
  {
   "cell_type": "code",
   "execution_count": 54,
   "metadata": {},
   "outputs": [
    {
     "name": "stdout",
     "output_type": "stream",
     "text": [
      "10\n",
      "20\n",
      "30\n",
      "40\n",
      "50\n"
     ]
    }
   ],
   "source": [
    "li=[10,20,30,40,50]\n",
    "for i in li:\n",
    "    print(i)"
   ]
  },
  {
   "cell_type": "code",
   "execution_count": 55,
   "metadata": {},
   "outputs": [
    {
     "name": "stdout",
     "output_type": "stream",
     "text": [
      "apple\n",
      "banana\n"
     ]
    }
   ],
   "source": [
    "fruits = [\"apple\", \"banana\", \"cherry\"]\n",
    "for x in fruits:\n",
    "  print(x)\n",
    "  if x == \"banana\":\n",
    "    break"
   ]
  },
  {
   "cell_type": "code",
   "execution_count": 56,
   "metadata": {},
   "outputs": [
    {
     "name": "stdout",
     "output_type": "stream",
     "text": [
      "apple\n"
     ]
    }
   ],
   "source": [
    "fruits = [\"apple\", \"banana\", \"cherry\"]\n",
    "for x in fruits:\n",
    "  if x == \"banana\":\n",
    "    break\n",
    "  print(x)"
   ]
  },
  {
   "cell_type": "code",
   "execution_count": 57,
   "metadata": {},
   "outputs": [
    {
     "name": "stdout",
     "output_type": "stream",
     "text": [
      "red apple\n",
      "red banana\n",
      "red cherry\n",
      "big apple\n",
      "big banana\n",
      "big cherry\n",
      "tasty apple\n",
      "tasty banana\n",
      "tasty cherry\n"
     ]
    }
   ],
   "source": [
    "adj = [\"red\", \"big\", \"tasty\"]\n",
    "fruits = [\"apple\", \"banana\", \"cherry\"]\n",
    "\n",
    "for x in adj:\n",
    "  for y in fruits:\n",
    "    print(x, y)"
   ]
  }
 ],
 "metadata": {
  "kernelspec": {
   "display_name": "Python 3 (ipykernel)",
   "language": "python",
   "name": "python3"
  },
  "language_info": {
   "codemirror_mode": {
    "name": "ipython",
    "version": 3
   },
   "file_extension": ".py",
   "mimetype": "text/x-python",
   "name": "python",
   "nbconvert_exporter": "python",
   "pygments_lexer": "ipython3",
   "version": "3.9.12"
  },
  "vscode": {
   "interpreter": {
    "hash": "c28da407b5413b3940d87ecdae5ea8ce0c2929d84f560e9f5daaaa2573d53e68"
   }
  }
 },
 "nbformat": 4,
 "nbformat_minor": 2
}
