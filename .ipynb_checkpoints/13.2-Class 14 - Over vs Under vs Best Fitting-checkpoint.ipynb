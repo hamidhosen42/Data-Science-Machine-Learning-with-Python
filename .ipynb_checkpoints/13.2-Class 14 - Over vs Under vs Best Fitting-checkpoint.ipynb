{
 "cells": [
  {
   "cell_type": "code",
   "execution_count": 1,
   "id": "9ae8cab8",
   "metadata": {},
   "outputs": [],
   "source": [
    "import pandas as pd\n",
    "from sklearn.datasets import make_classification # make regression for regression data"
   ]
  },
  {
   "cell_type": "code",
   "execution_count": 2,
   "id": "2eccfed2",
   "metadata": {},
   "outputs": [],
   "source": [
    "x,y=make_classification(n_samples=60000,n_features=25) #60k smaples with 25 features"
   ]
  },
  {
   "cell_type": "code",
   "execution_count": 3,
   "id": "dfa36e72",
   "metadata": {},
   "outputs": [
    {
     "data": {
      "text/plain": [
       "(60000, 25)"
      ]
     },
     "execution_count": 3,
     "metadata": {},
     "output_type": "execute_result"
    }
   ],
   "source": [
    "x.shape"
   ]
  },
  {
   "cell_type": "code",
   "execution_count": 4,
   "id": "1ed301ea",
   "metadata": {},
   "outputs": [
    {
     "data": {
      "text/plain": [
       "(60000,)"
      ]
     },
     "execution_count": 4,
     "metadata": {},
     "output_type": "execute_result"
    }
   ],
   "source": [
    "y.shape"
   ]
  },
  {
   "cell_type": "code",
   "execution_count": 5,
   "id": "08820623",
   "metadata": {},
   "outputs": [],
   "source": [
    "y=pd.DataFrame(y)"
   ]
  },
  {
   "cell_type": "code",
   "execution_count": 6,
   "id": "dcaac271",
   "metadata": {},
   "outputs": [
    {
     "data": {
      "text/plain": [
       "1    30014\n",
       "0    29986\n",
       "dtype: int64"
      ]
     },
     "execution_count": 6,
     "metadata": {},
     "output_type": "execute_result"
    }
   ],
   "source": [
    "y.value_counts()"
   ]
  },
  {
   "cell_type": "code",
   "execution_count": 7,
   "id": "15af4163",
   "metadata": {},
   "outputs": [
    {
     "data": {
      "text/html": [
       "<div>\n",
       "<style scoped>\n",
       "    .dataframe tbody tr th:only-of-type {\n",
       "        vertical-align: middle;\n",
       "    }\n",
       "\n",
       "    .dataframe tbody tr th {\n",
       "        vertical-align: top;\n",
       "    }\n",
       "\n",
       "    .dataframe thead th {\n",
       "        text-align: right;\n",
       "    }\n",
       "</style>\n",
       "<table border=\"1\" class=\"dataframe\">\n",
       "  <thead>\n",
       "    <tr style=\"text-align: right;\">\n",
       "      <th></th>\n",
       "      <th>0</th>\n",
       "      <th>1</th>\n",
       "      <th>2</th>\n",
       "      <th>3</th>\n",
       "      <th>4</th>\n",
       "      <th>5</th>\n",
       "      <th>6</th>\n",
       "      <th>7</th>\n",
       "      <th>8</th>\n",
       "      <th>9</th>\n",
       "      <th>...</th>\n",
       "      <th>15</th>\n",
       "      <th>16</th>\n",
       "      <th>17</th>\n",
       "      <th>18</th>\n",
       "      <th>19</th>\n",
       "      <th>20</th>\n",
       "      <th>21</th>\n",
       "      <th>22</th>\n",
       "      <th>23</th>\n",
       "      <th>24</th>\n",
       "    </tr>\n",
       "  </thead>\n",
       "  <tbody>\n",
       "    <tr>\n",
       "      <th>0</th>\n",
       "      <td>0.009428</td>\n",
       "      <td>0.746988</td>\n",
       "      <td>0.562335</td>\n",
       "      <td>-1.524334</td>\n",
       "      <td>0.455849</td>\n",
       "      <td>0.241811</td>\n",
       "      <td>1.429948</td>\n",
       "      <td>-1.548373</td>\n",
       "      <td>-1.586211</td>\n",
       "      <td>-0.467615</td>\n",
       "      <td>...</td>\n",
       "      <td>-1.066508</td>\n",
       "      <td>-0.523713</td>\n",
       "      <td>0.025316</td>\n",
       "      <td>1.637591</td>\n",
       "      <td>-1.134142</td>\n",
       "      <td>-1.138186</td>\n",
       "      <td>0.344954</td>\n",
       "      <td>0.496392</td>\n",
       "      <td>1.551253</td>\n",
       "      <td>-1.099741</td>\n",
       "    </tr>\n",
       "    <tr>\n",
       "      <th>1</th>\n",
       "      <td>0.956244</td>\n",
       "      <td>0.412878</td>\n",
       "      <td>0.785869</td>\n",
       "      <td>-0.901591</td>\n",
       "      <td>1.811935</td>\n",
       "      <td>-1.477731</td>\n",
       "      <td>-0.263474</td>\n",
       "      <td>-0.721337</td>\n",
       "      <td>1.184220</td>\n",
       "      <td>-0.460027</td>\n",
       "      <td>...</td>\n",
       "      <td>-0.567597</td>\n",
       "      <td>0.710318</td>\n",
       "      <td>-1.869752</td>\n",
       "      <td>0.983803</td>\n",
       "      <td>0.011242</td>\n",
       "      <td>1.243521</td>\n",
       "      <td>0.857675</td>\n",
       "      <td>0.300700</td>\n",
       "      <td>-0.589478</td>\n",
       "      <td>0.544726</td>\n",
       "    </tr>\n",
       "    <tr>\n",
       "      <th>2</th>\n",
       "      <td>-0.875148</td>\n",
       "      <td>0.923398</td>\n",
       "      <td>-0.147961</td>\n",
       "      <td>0.391165</td>\n",
       "      <td>-0.478034</td>\n",
       "      <td>1.065856</td>\n",
       "      <td>0.619337</td>\n",
       "      <td>0.347311</td>\n",
       "      <td>0.573234</td>\n",
       "      <td>0.430836</td>\n",
       "      <td>...</td>\n",
       "      <td>3.020945</td>\n",
       "      <td>-1.582599</td>\n",
       "      <td>-1.016374</td>\n",
       "      <td>1.233931</td>\n",
       "      <td>-1.061696</td>\n",
       "      <td>0.858244</td>\n",
       "      <td>-0.515193</td>\n",
       "      <td>-1.251494</td>\n",
       "      <td>-1.792911</td>\n",
       "      <td>-1.036982</td>\n",
       "    </tr>\n",
       "    <tr>\n",
       "      <th>3</th>\n",
       "      <td>-0.555561</td>\n",
       "      <td>-0.393597</td>\n",
       "      <td>0.639217</td>\n",
       "      <td>0.812128</td>\n",
       "      <td>-0.542060</td>\n",
       "      <td>0.824667</td>\n",
       "      <td>0.251407</td>\n",
       "      <td>-0.429716</td>\n",
       "      <td>-0.292220</td>\n",
       "      <td>-0.486023</td>\n",
       "      <td>...</td>\n",
       "      <td>-1.915740</td>\n",
       "      <td>0.056334</td>\n",
       "      <td>0.568309</td>\n",
       "      <td>1.880340</td>\n",
       "      <td>-0.447338</td>\n",
       "      <td>-0.220447</td>\n",
       "      <td>-0.861008</td>\n",
       "      <td>0.830443</td>\n",
       "      <td>-0.202879</td>\n",
       "      <td>0.486935</td>\n",
       "    </tr>\n",
       "    <tr>\n",
       "      <th>4</th>\n",
       "      <td>-1.109039</td>\n",
       "      <td>0.496398</td>\n",
       "      <td>0.263542</td>\n",
       "      <td>-1.178688</td>\n",
       "      <td>-1.537581</td>\n",
       "      <td>-0.344511</td>\n",
       "      <td>0.332736</td>\n",
       "      <td>0.154525</td>\n",
       "      <td>1.136039</td>\n",
       "      <td>0.768212</td>\n",
       "      <td>...</td>\n",
       "      <td>0.246605</td>\n",
       "      <td>0.176394</td>\n",
       "      <td>-2.035892</td>\n",
       "      <td>0.648160</td>\n",
       "      <td>0.519932</td>\n",
       "      <td>-0.345072</td>\n",
       "      <td>-1.103061</td>\n",
       "      <td>-0.228939</td>\n",
       "      <td>2.793846</td>\n",
       "      <td>1.039341</td>\n",
       "    </tr>\n",
       "  </tbody>\n",
       "</table>\n",
       "<p>5 rows × 25 columns</p>\n",
       "</div>"
      ],
      "text/plain": [
       "         0         1         2         3         4         5         6   \\\n",
       "0  0.009428  0.746988  0.562335 -1.524334  0.455849  0.241811  1.429948   \n",
       "1  0.956244  0.412878  0.785869 -0.901591  1.811935 -1.477731 -0.263474   \n",
       "2 -0.875148  0.923398 -0.147961  0.391165 -0.478034  1.065856  0.619337   \n",
       "3 -0.555561 -0.393597  0.639217  0.812128 -0.542060  0.824667  0.251407   \n",
       "4 -1.109039  0.496398  0.263542 -1.178688 -1.537581 -0.344511  0.332736   \n",
       "\n",
       "         7         8         9   ...        15        16        17        18  \\\n",
       "0 -1.548373 -1.586211 -0.467615  ... -1.066508 -0.523713  0.025316  1.637591   \n",
       "1 -0.721337  1.184220 -0.460027  ... -0.567597  0.710318 -1.869752  0.983803   \n",
       "2  0.347311  0.573234  0.430836  ...  3.020945 -1.582599 -1.016374  1.233931   \n",
       "3 -0.429716 -0.292220 -0.486023  ... -1.915740  0.056334  0.568309  1.880340   \n",
       "4  0.154525  1.136039  0.768212  ...  0.246605  0.176394 -2.035892  0.648160   \n",
       "\n",
       "         19        20        21        22        23        24  \n",
       "0 -1.134142 -1.138186  0.344954  0.496392  1.551253 -1.099741  \n",
       "1  0.011242  1.243521  0.857675  0.300700 -0.589478  0.544726  \n",
       "2 -1.061696  0.858244 -0.515193 -1.251494 -1.792911 -1.036982  \n",
       "3 -0.447338 -0.220447 -0.861008  0.830443 -0.202879  0.486935  \n",
       "4  0.519932 -0.345072 -1.103061 -0.228939  2.793846  1.039341  \n",
       "\n",
       "[5 rows x 25 columns]"
      ]
     },
     "execution_count": 7,
     "metadata": {},
     "output_type": "execute_result"
    }
   ],
   "source": [
    "x=pd.DataFrame(x)\n",
    "x.head()"
   ]
  },
  {
   "cell_type": "code",
   "execution_count": 8,
   "id": "8896cd6c",
   "metadata": {},
   "outputs": [],
   "source": [
    "from sklearn.model_selection import train_test_split"
   ]
  },
  {
   "cell_type": "code",
   "execution_count": 9,
   "id": "c0250fef",
   "metadata": {},
   "outputs": [],
   "source": [
    "xtrain, xtest, ytrain, ytest = train_test_split(x, y, test_size=.25, random_state=1)"
   ]
  },
  {
   "cell_type": "code",
   "execution_count": 10,
   "id": "23afb27c",
   "metadata": {},
   "outputs": [
    {
     "data": {
      "text/plain": [
       "(45000, 25)"
      ]
     },
     "execution_count": 10,
     "metadata": {},
     "output_type": "execute_result"
    }
   ],
   "source": [
    "xtrain.shape"
   ]
  },
  {
   "cell_type": "code",
   "execution_count": 11,
   "id": "0853923c",
   "metadata": {},
   "outputs": [],
   "source": [
    "train_accuracy = []\n",
    "test_accuracy = []\n",
    "\n",
    "max_features = [n for n in range(1,25)]"
   ]
  },
  {
   "cell_type": "code",
   "execution_count": 12,
   "id": "48b3e708",
   "metadata": {},
   "outputs": [
    {
     "data": {
      "text/plain": [
       "[1,\n",
       " 2,\n",
       " 3,\n",
       " 4,\n",
       " 5,\n",
       " 6,\n",
       " 7,\n",
       " 8,\n",
       " 9,\n",
       " 10,\n",
       " 11,\n",
       " 12,\n",
       " 13,\n",
       " 14,\n",
       " 15,\n",
       " 16,\n",
       " 17,\n",
       " 18,\n",
       " 19,\n",
       " 20,\n",
       " 21,\n",
       " 22,\n",
       " 23,\n",
       " 24]"
      ]
     },
     "execution_count": 12,
     "metadata": {},
     "output_type": "execute_result"
    }
   ],
   "source": [
    "max_features"
   ]
  },
  {
   "cell_type": "code",
   "execution_count": 13,
   "id": "221b8275",
   "metadata": {},
   "outputs": [],
   "source": [
    "from sklearn.tree import DecisionTreeClassifier"
   ]
  },
  {
   "cell_type": "code",
   "execution_count": 14,
   "id": "3a2e37e2",
   "metadata": {},
   "outputs": [
    {
     "name": "stdout",
     "output_type": "stream",
     "text": [
      "Max Depth =1, Train Acc = 0.854267 , Test Acc=0.853133\n",
      "Max Depth =2, Train Acc = 0.892267 , Test Acc=0.891733\n",
      "Max Depth =3, Train Acc = 0.895844 , Test Acc=0.894133\n",
      "Max Depth =4, Train Acc = 0.913889 , Test Acc=0.913600\n",
      "Max Depth =5, Train Acc = 0.915489 , Test Acc=0.916067\n",
      "Max Depth =6, Train Acc = 0.919600 , Test Acc=0.916667\n",
      "Max Depth =7, Train Acc = 0.923578 , Test Acc=0.914733\n",
      "Max Depth =8, Train Acc = 0.928644 , Test Acc=0.915267\n",
      "Max Depth =9, Train Acc = 0.934222 , Test Acc=0.909400\n",
      "Max Depth =10, Train Acc = 0.942022 , Test Acc=0.907733\n",
      "Max Depth =11, Train Acc = 0.950267 , Test Acc=0.905667\n",
      "Max Depth =12, Train Acc = 0.957511 , Test Acc=0.904400\n",
      "Max Depth =13, Train Acc = 0.963867 , Test Acc=0.900600\n",
      "Max Depth =14, Train Acc = 0.970178 , Test Acc=0.898867\n",
      "Max Depth =15, Train Acc = 0.976156 , Test Acc=0.895067\n",
      "Max Depth =16, Train Acc = 0.982422 , Test Acc=0.894200\n",
      "Max Depth =17, Train Acc = 0.987156 , Test Acc=0.891800\n",
      "Max Depth =18, Train Acc = 0.990089 , Test Acc=0.890933\n",
      "Max Depth =19, Train Acc = 0.993378 , Test Acc=0.888133\n",
      "Max Depth =20, Train Acc = 0.995222 , Test Acc=0.888400\n",
      "Max Depth =21, Train Acc = 0.996244 , Test Acc=0.884800\n",
      "Max Depth =22, Train Acc = 0.997667 , Test Acc=0.886867\n",
      "Max Depth =23, Train Acc = 0.998356 , Test Acc=0.886600\n",
      "Max Depth =24, Train Acc = 0.999022 , Test Acc=0.887067\n"
     ]
    }
   ],
   "source": [
    "for depth in max_features:\n",
    "    clf = DecisionTreeClassifier(max_depth=depth)\n",
    "    clf.fit(xtrain, ytrain) # training\n",
    "    \n",
    "    #train accuracy\n",
    "    train_acc = clf.score(xtrain, ytrain)\n",
    "    train_accuracy.append(train_acc)\n",
    "    \n",
    "    #test accuracy\n",
    "    test_acc = clf.score(xtest, ytest)\n",
    "    test_accuracy.append(test_acc)\n",
    "    \n",
    "    print('Max Depth =%d, Train Acc = %f , Test Acc=%f' %(depth,train_acc,test_acc))"
   ]
  },
  {
   "cell_type": "code",
   "execution_count": 15,
   "id": "476fdeb6",
   "metadata": {},
   "outputs": [
    {
     "data": {
      "text/plain": [
       "[<matplotlib.lines.Line2D at 0x1c5e8898f70>]"
      ]
     },
     "execution_count": 15,
     "metadata": {},
     "output_type": "execute_result"
    },
    {
     "data": {
      "image/png": "[encoded data removed]",
      "text/plain": [
       "<Figure size 640x480 with 1 Axes>"
      ]
     },
     "metadata": {},
     "output_type": "display_data"
    }
   ],
   "source": [
    "from matplotlib import pyplot as plt\n",
    "plt.plot(max_features,train_accuracy)\n",
    "plt.plot(max_features,test_accuracy)"
   ]
  },
  {
   "cell_type": "code",
   "execution_count": 16,
   "id": "8a443bb6",
   "metadata": {},
   "outputs": [
    {
     "data": {
      "text/plain": [
       "<matplotlib.legend.Legend at 0x1c5e88ef4c0>"
      ]
     },
     "execution_count": 16,
     "metadata": {},
     "output_type": "execute_result"
    },
    {
     "data": {
      "image/png": "[encoded data removed]",
      "text/plain": [
       "<Figure size 640x480 with 1 Axes>"
      ]
     },
     "metadata": {},
     "output_type": "display_data"
    }
   ],
   "source": [
    "from matplotlib import pyplot as plt\n",
    "plt.plot(max_features,train_accuracy, '-o', color='black',label='Train')\n",
    "plt.plot(max_features,test_accuracy,'-o',color='green', label='Test')\n",
    "plt.legend()"
   ]
  }
 ],
 "metadata": {
  "kernelspec": {
   "display_name": "Python 3 (ipykernel)",
   "language": "python",
   "name": "python3"
  },
  "language_info": {
   "codemirror_mode": {
    "name": "ipython",
    "version": 3
   },
   "file_extension": ".py",
   "mimetype": "text/x-python",
   "name": "python",
   "nbconvert_exporter": "python",
   "pygments_lexer": "ipython3",
   "version": "3.9.13"
  }
 },
 "nbformat": 4,
 "nbformat_minor": 5
}
