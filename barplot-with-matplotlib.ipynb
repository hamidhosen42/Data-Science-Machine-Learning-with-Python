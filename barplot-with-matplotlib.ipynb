{
 "cells": [
  {
   "cell_type": "markdown",
   "id": "86851318",
   "metadata": {
    "papermill": {
     "duration": 0.007747,
     "end_time": "2023-03-21T04:16:48.532776",
     "exception": false,
     "start_time": "2023-03-21T04:16:48.525029",
     "status": "completed"
    },
    "tags": []
   },
   "source": [
    "**Barplot**\n",
    "\n",
    "A barplot shows the relationship between a numeric and a categoric variable. Each entity of the categoric variable is represented as a bar. The size of the bar represents its numeric value"
   ]
  },
  {
   "cell_type": "markdown",
   "id": "f0546c1e",
   "metadata": {
    "papermill": {
     "duration": 0.007307,
     "end_time": "2023-03-21T04:16:48.547292",
     "exception": false,
     "start_time": "2023-03-21T04:16:48.539985",
     "status": "completed"
    },
    "tags": []
   },
   "source": [
    "[Reference](https://www.python-graph-gallery.com/barplot/)"
   ]
  },
  {
   "cell_type": "markdown",
   "id": "3ff9453e",
   "metadata": {
    "papermill": {
     "duration": 0.006548,
     "end_time": "2023-03-21T04:16:48.561732",
     "exception": false,
     "start_time": "2023-03-21T04:16:48.555184",
     "status": "completed"
    },
    "tags": []
   },
   "source": [
    "**Basic Barplot using Matplotlib**\n",
    "\n",
    "This example shows probably the most basic barplot you can do with python and matplotlib. The bar() function used with the following parameters:\n",
    "\n",
    "> x : The x coordinates of the bars. (x_pos in the example)\n",
    "\n",
    "> height : The height(s) of the bars."
   ]
  },
  {
   "cell_type": "code",
   "execution_count": 1,
   "id": "ac4e3bad",
   "metadata": {
    "execution": {
     "iopub.execute_input": "2023-03-21T04:16:48.577590Z",
     "iopub.status.busy": "2023-03-21T04:16:48.577066Z",
     "iopub.status.idle": "2023-03-21T04:16:48.595964Z",
     "shell.execute_reply": "2023-03-21T04:16:48.594951Z"
    },
    "papermill": {
     "duration": 0.029604,
     "end_time": "2023-03-21T04:16:48.598241",
     "exception": false,
     "start_time": "2023-03-21T04:16:48.568637",
     "status": "completed"
    },
    "tags": []
   },
   "outputs": [
    {
     "data": {
      "text/plain": [
       "array([0, 1, 2, 3, 4])"
      ]
     },
     "execution_count": 1,
     "metadata": {},
     "output_type": "execute_result"
    }
   ],
   "source": [
    "# Libraries\n",
    "import numpy as np\n",
    "import matplotlib.pyplot as plt\n",
    " \n",
    "# Create dataset\n",
    "height = [3, 12, 5, 18, 45]\n",
    "bars = ('A', 'B', 'C', 'D', 'E')\n",
    "x_pos = np.arange(len(bars))\n",
    "x_pos"
   ]
  },
  {
   "cell_type": "code",
   "execution_count": 2,
   "id": "a567f7de",
   "metadata": {
    "execution": {
     "iopub.execute_input": "2023-03-21T04:16:48.614482Z",
     "iopub.status.busy": "2023-03-21T04:16:48.614070Z",
     "iopub.status.idle": "2023-03-21T04:16:48.752810Z",
     "shell.execute_reply": "2023-03-21T04:16:48.752018Z"
    },
    "papermill": {
     "duration": 0.14949,
     "end_time": "2023-03-21T04:16:48.755074",
     "exception": false,
     "start_time": "2023-03-21T04:16:48.605584",
     "status": "completed"
    },
    "tags": []
   },
   "outputs": [
    {
     "data": {
      "image/png": "[encoded data removed]",
      "text/plain": [
       "<Figure size 640x480 with 1 Axes>"
      ]
     },
     "metadata": {},
     "output_type": "display_data"
    }
   ],
   "source": [
    "#create bars\n",
    "#bar(x, height, width=0.8, bottom=None, *, align='center', data=None, **kwargs)\n",
    "plt.bar(x_pos,height)\n",
    "\n",
    "# Create names on the x-axis\n",
    "plt.xticks(x_pos,bars)\n",
    "plt.show()"
   ]
  },
  {
   "cell_type": "markdown",
   "id": "d57eb646",
   "metadata": {
    "papermill": {
     "duration": 0.009014,
     "end_time": "2023-03-21T04:16:48.773989",
     "exception": false,
     "start_time": "2023-03-21T04:16:48.764975",
     "status": "completed"
    },
    "tags": []
   },
   "source": [
    "**Plotting a Horizontal Barplot using Matplotlib**"
   ]
  },
  {
   "cell_type": "markdown",
   "id": "1946c724",
   "metadata": {
    "papermill": {
     "duration": 0.006973,
     "end_time": "2023-03-21T04:16:48.790228",
     "exception": false,
     "start_time": "2023-03-21T04:16:48.783255",
     "status": "completed"
    },
    "tags": []
   },
   "source": [
    "**Most Basic**\n",
    "\n",
    "Building a horizontal barplot with matplotlib follows pretty much the same process as a vertical barplot. The only difference is that the barh() function must be used instead of the bar() function. Here is a basic example."
   ]
  },
  {
   "cell_type": "code",
   "execution_count": 3,
   "id": "2f76beac",
   "metadata": {
    "execution": {
     "iopub.execute_input": "2023-03-21T04:16:48.807641Z",
     "iopub.status.busy": "2023-03-21T04:16:48.807294Z",
     "iopub.status.idle": "2023-03-21T04:16:48.922061Z",
     "shell.execute_reply": "2023-03-21T04:16:48.921330Z"
    },
    "papermill": {
     "duration": 0.125524,
     "end_time": "2023-03-21T04:16:48.924054",
     "exception": false,
     "start_time": "2023-03-21T04:16:48.798530",
     "status": "completed"
    },
    "tags": []
   },
   "outputs": [
    {
     "data": {
      "image/png": "[encoded data removed]",
      "text/plain": [
       "<Figure size 640x480 with 1 Axes>"
      ]
     },
     "metadata": {},
     "output_type": "display_data"
    }
   ],
   "source": [
    "# libraries\n",
    "import matplotlib.pyplot as plt\n",
    "import numpy as np\n",
    "\n",
    "# create dataset\n",
    "height = [3, 12, 5, 18, 45]\n",
    "bars = ('A', 'B', 'C', 'D', 'E')\n",
    "y_pos = np.arange(len(bars))\n",
    " \n",
    "# Create horizontal bars\n",
    "plt.barh(y_pos, height)\n",
    " \n",
    "# Create names on the x-axis\n",
    "plt.yticks(y_pos, bars)\n",
    " \n",
    "# Show graphic\n",
    "plt.show()"
   ]
  },
  {
   "cell_type": "markdown",
   "id": "76ed0195",
   "metadata": {
    "papermill": {
     "duration": 0.009307,
     "end_time": "2023-03-21T04:16:48.942608",
     "exception": false,
     "start_time": "2023-03-21T04:16:48.933301",
     "status": "completed"
    },
    "tags": []
   },
   "source": [
    "**From Pandas dataframe**"
   ]
  },
  {
   "cell_type": "code",
   "execution_count": 4,
   "id": "6edd31e2",
   "metadata": {
    "execution": {
     "iopub.execute_input": "2023-03-21T04:16:48.961788Z",
     "iopub.status.busy": "2023-03-21T04:16:48.961450Z",
     "iopub.status.idle": "2023-03-21T04:16:48.990571Z",
     "shell.execute_reply": "2023-03-21T04:16:48.989690Z"
    },
    "papermill": {
     "duration": 0.040431,
     "end_time": "2023-03-21T04:16:48.992566",
     "exception": false,
     "start_time": "2023-03-21T04:16:48.952135",
     "status": "completed"
    },
    "tags": []
   },
   "outputs": [
    {
     "data": {
      "text/html": [
       "<div>\n",
       "<style scoped>\n",
       "    .dataframe tbody tr th:only-of-type {\n",
       "        vertical-align: middle;\n",
       "    }\n",
       "\n",
       "    .dataframe tbody tr th {\n",
       "        vertical-align: top;\n",
       "    }\n",
       "\n",
       "    .dataframe thead th {\n",
       "        text-align: right;\n",
       "    }\n",
       "</style>\n",
       "<table border=\"1\" class=\"dataframe\">\n",
       "  <thead>\n",
       "    <tr style=\"text-align: right;\">\n",
       "      <th></th>\n",
       "      <th>Group</th>\n",
       "      <th>Value</th>\n",
       "    </tr>\n",
       "  </thead>\n",
       "  <tbody>\n",
       "    <tr>\n",
       "      <th>0</th>\n",
       "      <td>A</td>\n",
       "      <td>1</td>\n",
       "    </tr>\n",
       "    <tr>\n",
       "      <th>1</th>\n",
       "      <td>B</td>\n",
       "      <td>5</td>\n",
       "    </tr>\n",
       "    <tr>\n",
       "      <th>2</th>\n",
       "      <td>C</td>\n",
       "      <td>4</td>\n",
       "    </tr>\n",
       "    <tr>\n",
       "      <th>3</th>\n",
       "      <td>D</td>\n",
       "      <td>3</td>\n",
       "    </tr>\n",
       "    <tr>\n",
       "      <th>4</th>\n",
       "      <td>E</td>\n",
       "      <td>9</td>\n",
       "    </tr>\n",
       "  </tbody>\n",
       "</table>\n",
       "</div>"
      ],
      "text/plain": [
       "  Group  Value\n",
       "0     A      1\n",
       "1     B      5\n",
       "2     C      4\n",
       "3     D      3\n",
       "4     E      9"
      ]
     },
     "execution_count": 4,
     "metadata": {},
     "output_type": "execute_result"
    }
   ],
   "source": [
    "# import libraries\n",
    "import pandas as pd\n",
    "import matplotlib.pyplot as plt\n",
    "\n",
    "# Create a data frame\n",
    "df = pd.DataFrame ({\n",
    "        'Group':  ['A', 'B', 'C', 'D', 'E'],\n",
    "        'Value': [1,5,4,3,9]\n",
    "})\n",
    "df"
   ]
  },
  {
   "cell_type": "code",
   "execution_count": 5,
   "id": "88fe508e",
   "metadata": {
    "execution": {
     "iopub.execute_input": "2023-03-21T04:16:49.010290Z",
     "iopub.status.busy": "2023-03-21T04:16:49.009679Z",
     "iopub.status.idle": "2023-03-21T04:16:49.136973Z",
     "shell.execute_reply": "2023-03-21T04:16:49.136071Z"
    },
    "papermill": {
     "duration": 0.138606,
     "end_time": "2023-03-21T04:16:49.139099",
     "exception": false,
     "start_time": "2023-03-21T04:16:49.000493",
     "status": "completed"
    },
    "tags": []
   },
   "outputs": [
    {
     "data": {
      "image/png": "[encoded data removed]",
      "text/plain": [
       "<Figure size 640x480 with 1 Axes>"
      ]
     },
     "metadata": {},
     "output_type": "display_data"
    }
   ],
   "source": [
    "# Create horizontal bars\n",
    "plt.barh(y=df.Group, width=df.Value);"
   ]
  },
  {
   "cell_type": "markdown",
   "id": "86e80ba6",
   "metadata": {
    "papermill": {
     "duration": 0.009065,
     "end_time": "2023-03-21T04:16:49.159242",
     "exception": false,
     "start_time": "2023-03-21T04:16:49.150177",
     "status": "completed"
    },
    "tags": []
   },
   "source": [
    "**Control order**\n",
    "\n",
    "A bar chart is always more insightful when ordered. It allows to understand how items are ranked much quicker. You just have to sort the pandas dataframe upfront to sort the chart:"
   ]
  },
  {
   "cell_type": "code",
   "execution_count": 6,
   "id": "8938cfbd",
   "metadata": {
    "execution": {
     "iopub.execute_input": "2023-03-21T04:16:49.178158Z",
     "iopub.status.busy": "2023-03-21T04:16:49.177449Z",
     "iopub.status.idle": "2023-03-21T04:16:49.314994Z",
     "shell.execute_reply": "2023-03-21T04:16:49.314184Z"
    },
    "papermill": {
     "duration": 0.150074,
     "end_time": "2023-03-21T04:16:49.317071",
     "exception": false,
     "start_time": "2023-03-21T04:16:49.166997",
     "status": "completed"
    },
    "tags": []
   },
   "outputs": [
    {
     "data": {
      "image/png": "[encoded data removed]",
      "text/plain": [
       "<Figure size 640x480 with 1 Axes>"
      ]
     },
     "metadata": {},
     "output_type": "display_data"
    }
   ],
   "source": [
    "import pandas as pd\n",
    "import matplotlib.pyplot as plt\n",
    "\n",
    "# Create a data frame\n",
    "df = pd.DataFrame ({\n",
    "        'Group':  ['A', 'B', 'C', 'D', 'E'],\n",
    "        'Value': [1,5,4,3,9]\n",
    "})\n",
    "\n",
    "# Sort the table\n",
    "df = df.sort_values(by=['Value'])\n",
    "\n",
    "# Create horizontal bars\n",
    "plt.barh(y=df.Group, width=df.Value);\n",
    "\n",
    "# Add title\n",
    "plt.title('A simple barplot');"
   ]
  },
  {
   "cell_type": "markdown",
   "id": "77caa38f",
   "metadata": {
    "papermill": {
     "duration": 0.007867,
     "end_time": "2023-03-21T04:16:49.335477",
     "exception": false,
     "start_time": "2023-03-21T04:16:49.327610",
     "status": "completed"
    },
    "tags": []
   },
   "source": [
    "**Object-oriented API**"
   ]
  },
  {
   "cell_type": "code",
   "execution_count": 7,
   "id": "1ee6e773",
   "metadata": {
    "execution": {
     "iopub.execute_input": "2023-03-21T04:16:49.353178Z",
     "iopub.status.busy": "2023-03-21T04:16:49.352528Z",
     "iopub.status.idle": "2023-03-21T04:16:49.511795Z",
     "shell.execute_reply": "2023-03-21T04:16:49.510712Z"
    },
    "papermill": {
     "duration": 0.171322,
     "end_time": "2023-03-21T04:16:49.514482",
     "exception": false,
     "start_time": "2023-03-21T04:16:49.343160",
     "status": "completed"
    },
    "tags": []
   },
   "outputs": [
    {
     "data": {
      "image/png": "[encoded data removed]",
      "text/plain": [
       "<Figure size 900x900 with 1 Axes>"
      ]
     },
     "metadata": {},
     "output_type": "display_data"
    }
   ],
   "source": [
    "import pandas as pd\n",
    "import matplotlib.pyplot as plt\n",
    "\n",
    "\n",
    "# Create a data frame\n",
    "df = pd.DataFrame ({\n",
    "        'Group':  ['A', 'B', 'C', 'D', 'E'],\n",
    "        'Value': [1,5,4,3,9]\n",
    "})\n",
    "\n",
    "# Initialize a Figure and an Axes\n",
    "fig, ax = plt.subplots()\n",
    "\n",
    "# Fig size\n",
    "fig.set_size_inches(9,9)\n",
    "\n",
    "# Create horizontal bars\n",
    "ax.barh(y=df.Group, width=df.Value);\n",
    "\n",
    "# Add title\n",
    "ax.set_title('A simple barplot');"
   ]
  },
  {
   "cell_type": "markdown",
   "id": "b799a5ae",
   "metadata": {
    "papermill": {
     "duration": 0.008,
     "end_time": "2023-03-21T04:16:49.531041",
     "exception": false,
     "start_time": "2023-03-21T04:16:49.523041",
     "status": "completed"
    },
    "tags": []
   },
   "source": [
    "**Control the color of barplots built with matplotlib**\n",
    "\n",
    "You can change the color of bars in a barplot using color argument.\n",
    "RGB is a way of making colors. You have to to provide an amount of red, green, blue, and the transparency value to the color argument and it returns a color."
   ]
  },
  {
   "cell_type": "code",
   "execution_count": 8,
   "id": "7b3d8b55",
   "metadata": {
    "execution": {
     "iopub.execute_input": "2023-03-21T04:16:49.550269Z",
     "iopub.status.busy": "2023-03-21T04:16:49.549907Z",
     "iopub.status.idle": "2023-03-21T04:16:49.777867Z",
     "shell.execute_reply": "2023-03-21T04:16:49.776985Z"
    },
    "papermill": {
     "duration": 0.240723,
     "end_time": "2023-03-21T04:16:49.780189",
     "exception": false,
     "start_time": "2023-03-21T04:16:49.539466",
     "status": "completed"
    },
    "tags": []
   },
   "outputs": [
    {
     "data": {
      "image/png": "[encoded data removed]",
      "text/plain": [
       "<Figure size 640x480 with 1 Axes>"
      ]
     },
     "metadata": {},
     "output_type": "display_data"
    }
   ],
   "source": [
    "# libraries\n",
    "import numpy as np\n",
    "import matplotlib.pyplot as plt\n",
    " \n",
    "# create a dataset\n",
    "height = [3, 12, 5, 18, 45]\n",
    "bars = ('A', 'B', 'C', 'D', 'E')\n",
    "x_pos = np.arange(len(bars))\n",
    "\n",
    "# Create bars\n",
    "plt.bar(x_pos, height, color=(0.2, 0.4, 0.6, 0.6))\n",
    "\n",
    "# Create names on the x-axis\n",
    "plt.xticks(x_pos, bars)\n",
    "\n",
    "# Show graph\n",
    "plt.show()"
   ]
  },
  {
   "cell_type": "markdown",
   "id": "91e9fd4d",
   "metadata": {
    "papermill": {
     "duration": 0.010697,
     "end_time": "2023-03-21T04:16:49.802228",
     "exception": false,
     "start_time": "2023-03-21T04:16:49.791531",
     "status": "completed"
    },
    "tags": []
   },
   "source": [
    "**Different color for each bar**\n",
    "\n",
    "If you want to give different colors to each bar, just provide a list of color names to the color argument:"
   ]
  },
  {
   "cell_type": "code",
   "execution_count": 9,
   "id": "c9075ccb",
   "metadata": {
    "execution": {
     "iopub.execute_input": "2023-03-21T04:16:49.824234Z",
     "iopub.status.busy": "2023-03-21T04:16:49.823751Z",
     "iopub.status.idle": "2023-03-21T04:16:49.941360Z",
     "shell.execute_reply": "2023-03-21T04:16:49.940522Z"
    },
    "papermill": {
     "duration": 0.13033,
     "end_time": "2023-03-21T04:16:49.943812",
     "exception": false,
     "start_time": "2023-03-21T04:16:49.813482",
     "status": "completed"
    },
    "tags": []
   },
   "outputs": [
    {
     "data": {
      "image/png": "[encoded data removed]",
      "text/plain": [
       "<Figure size 640x480 with 1 Axes>"
      ]
     },
     "metadata": {},
     "output_type": "display_data"
    }
   ],
   "source": [
    "# libraries\n",
    "import numpy as np\n",
    "import matplotlib.pyplot as plt\n",
    " \n",
    "# create a dataset\n",
    "height = [3, 12, 5, 18, 45]\n",
    "bars = ('A', 'B', 'C', 'D', 'E')\n",
    "x_pos = np.arange(len(bars))\n",
    "\n",
    "# Create bars with different colors\n",
    "plt.bar(x_pos, height, color=['black', 'red', 'green', 'blue', 'cyan'])\n",
    "\n",
    "# Create names on the x-axis\n",
    "plt.xticks(x_pos, bars)\n",
    "\n",
    "# Show graph\n",
    "plt.show()"
   ]
  },
  {
   "cell_type": "markdown",
   "id": "2b3af39a",
   "metadata": {
    "papermill": {
     "duration": 0.010994,
     "end_time": "2023-03-21T04:16:49.966225",
     "exception": false,
     "start_time": "2023-03-21T04:16:49.955231",
     "status": "completed"
    },
    "tags": []
   },
   "source": [
    "**Control color of border**\n",
    "\n",
    "> The edgecolor argument allows you to color the borders of barplots."
   ]
  },
  {
   "cell_type": "code",
   "execution_count": 10,
   "id": "b2a0c67f",
   "metadata": {
    "execution": {
     "iopub.execute_input": "2023-03-21T04:16:49.988854Z",
     "iopub.status.busy": "2023-03-21T04:16:49.988299Z",
     "iopub.status.idle": "2023-03-21T04:16:50.094905Z",
     "shell.execute_reply": "2023-03-21T04:16:50.094084Z"
    },
    "papermill": {
     "duration": 0.119711,
     "end_time": "2023-03-21T04:16:50.097199",
     "exception": false,
     "start_time": "2023-03-21T04:16:49.977488",
     "status": "completed"
    },
    "tags": []
   },
   "outputs": [
    {
     "data": {
      "image/png": "[encoded data removed]",
      "text/plain": [
       "<Figure size 640x480 with 1 Axes>"
      ]
     },
     "metadata": {},
     "output_type": "display_data"
    }
   ],
   "source": [
    "# libraries\n",
    "import numpy as np\n",
    "import matplotlib.pyplot as plt\n",
    " \n",
    "# create a dataset\n",
    "height = [3, 12, 5, 18, 45]\n",
    "bars = ('A', 'B', 'C', 'D', 'E')\n",
    "x_pos = np.arange(len(bars))\n",
    "\n",
    "# Create bars with blue edge color\n",
    "plt.bar(x_pos, height, color=(0.1, 0.1, 0.1, 0.1),  edgecolor='blue')\n",
    "\n",
    "# Create names on the x-axis\n",
    "plt.xticks(x_pos, bars)\n",
    "\n",
    "# Show graph\n",
    "plt.show()"
   ]
  },
  {
   "cell_type": "markdown",
   "id": "1bf5eae9",
   "metadata": {
    "papermill": {
     "duration": 0.011174,
     "end_time": "2023-03-21T04:16:50.119988",
     "exception": false,
     "start_time": "2023-03-21T04:16:50.108814",
     "status": "completed"
    },
    "tags": []
   },
   "source": [
    "**Add a title and axis labels to your charts using matplotlib**\n",
    "\n",
    "> In the following example, title, x label and y label are added to the barplot using the title(), xlabel(), and ylabel() functions of the matplotlib library."
   ]
  },
  {
   "cell_type": "code",
   "execution_count": 11,
   "id": "7ee9bafc",
   "metadata": {
    "execution": {
     "iopub.execute_input": "2023-03-21T04:16:50.143958Z",
     "iopub.status.busy": "2023-03-21T04:16:50.143385Z",
     "iopub.status.idle": "2023-03-21T04:16:50.267638Z",
     "shell.execute_reply": "2023-03-21T04:16:50.266835Z"
    },
    "papermill": {
     "duration": 0.138187,
     "end_time": "2023-03-21T04:16:50.269785",
     "exception": false,
     "start_time": "2023-03-21T04:16:50.131598",
     "status": "completed"
    },
    "tags": []
   },
   "outputs": [
    {
     "data": {
      "image/png": "[encoded data removed]",
      "text/plain": [
       "<Figure size 640x480 with 1 Axes>"
      ]
     },
     "metadata": {},
     "output_type": "display_data"
    }
   ],
   "source": [
    "# libraries\n",
    "import numpy as np\n",
    "import matplotlib.pyplot as plt\n",
    " \n",
    "# create dataset\n",
    "height = [3, 12, 5, 18, 45]\n",
    "bars = ('A', 'B', 'C', 'D', 'E')\n",
    "x_pos = np.arange(len(bars))\n",
    " \n",
    "# Create bars and choose color\n",
    "plt.bar(bars, height, color = (0.5,0.1,0.5,0.6))\n",
    " \n",
    "# Add title and axis names\n",
    "plt.title('My title')\n",
    "plt.xlabel('categories')\n",
    "plt.ylabel('values')\n",
    " \n",
    "# Create names on the x axis\n",
    "# plt.xticks(x_pos, bars)\n",
    " \n",
    "# Show graph\n",
    "plt.show()"
   ]
  },
  {
   "cell_type": "code",
   "execution_count": 12,
   "id": "2687c48c",
   "metadata": {
    "execution": {
     "iopub.execute_input": "2023-03-21T04:16:50.296267Z",
     "iopub.status.busy": "2023-03-21T04:16:50.295560Z",
     "iopub.status.idle": "2023-03-21T04:16:50.419417Z",
     "shell.execute_reply": "2023-03-21T04:16:50.418581Z"
    },
    "papermill": {
     "duration": 0.139471,
     "end_time": "2023-03-21T04:16:50.421466",
     "exception": false,
     "start_time": "2023-03-21T04:16:50.281995",
     "status": "completed"
    },
    "tags": []
   },
   "outputs": [
    {
     "data": {
      "image/png": "[encoded data removed]",
      "text/plain": [
       "<Figure size 640x480 with 1 Axes>"
      ]
     },
     "metadata": {},
     "output_type": "display_data"
    }
   ],
   "source": [
    "# libraries\n",
    "import numpy as np\n",
    "import matplotlib.pyplot as plt\n",
    " \n",
    "# create dataset\n",
    "height = [3, 12, 5, 18, 45]\n",
    "bars = ('A', 'B', 'C', 'D', 'E')\n",
    "x_pos = np.arange(len(bars))\n",
    " \n",
    "# Create bars and choose color\n",
    "plt.bar(x_pos, height, color = (0.5,0.1,0.5,0.6))\n",
    " \n",
    "# Add title and axis names\n",
    "plt.title('My title')\n",
    "plt.xlabel('categories')\n",
    "plt.ylabel('values')\n",
    " \n",
    "# Create names on the x axis\n",
    "plt.xticks(x_pos, bars)\n",
    " \n",
    "# Show graph\n",
    "plt.show()"
   ]
  },
  {
   "cell_type": "markdown",
   "id": "e0b3d740",
   "metadata": {
    "papermill": {
     "duration": 0.011863,
     "end_time": "2023-03-21T04:16:50.445521",
     "exception": false,
     "start_time": "2023-03-21T04:16:50.433658",
     "status": "completed"
    },
    "tags": []
   },
   "source": [
    "**Control width and space in barplots using matplotlib**"
   ]
  },
  {
   "cell_type": "code",
   "execution_count": 13,
   "id": "5a76ae8d",
   "metadata": {
    "execution": {
     "iopub.execute_input": "2023-03-21T04:16:50.466157Z",
     "iopub.status.busy": "2023-03-21T04:16:50.465521Z",
     "iopub.status.idle": "2023-03-21T04:16:50.574355Z",
     "shell.execute_reply": "2023-03-21T04:16:50.573367Z"
    },
    "papermill": {
     "duration": 0.121612,
     "end_time": "2023-03-21T04:16:50.576630",
     "exception": false,
     "start_time": "2023-03-21T04:16:50.455018",
     "status": "completed"
    },
    "tags": []
   },
   "outputs": [
    {
     "data": {
      "image/png": "[encoded data removed]",
      "text/plain": [
       "<Figure size 640x480 with 1 Axes>"
      ]
     },
     "metadata": {},
     "output_type": "display_data"
    }
   ],
   "source": [
    "# library\n",
    "import matplotlib.pyplot as plt\n",
    " \n",
    "# create dataset\n",
    "height = [3, 12, 5, 18, 45]\n",
    "bars = ('A', 'B', 'C', 'D', 'E')\n",
    " \n",
    "# Choose the position of each barplots on the x-axis (space=1,4,3,1)\n",
    "x_pos = [0,1,5,8,9]\n",
    " \n",
    "# Create bars\n",
    "plt.bar(x_pos, height)\n",
    " \n",
    "# Create names on the x-axis\n",
    "plt.xticks(x_pos, bars)\n",
    " \n",
    "# Show graphic\n",
    "plt.show()"
   ]
  },
  {
   "cell_type": "markdown",
   "id": "39f09cd4",
   "metadata": {
    "papermill": {
     "duration": 0.011728,
     "end_time": "2023-03-21T04:16:50.600829",
     "exception": false,
     "start_time": "2023-03-21T04:16:50.589101",
     "status": "completed"
    },
    "tags": []
   },
   "source": [
    "**Control Width**\n",
    "\n",
    "The width of the bars can be controlled by width argument of the bar() function."
   ]
  },
  {
   "cell_type": "code",
   "execution_count": 14,
   "id": "9ad598c1",
   "metadata": {
    "execution": {
     "iopub.execute_input": "2023-03-21T04:16:50.625310Z",
     "iopub.status.busy": "2023-03-21T04:16:50.624606Z",
     "iopub.status.idle": "2023-03-21T04:16:50.739721Z",
     "shell.execute_reply": "2023-03-21T04:16:50.738764Z"
    },
    "papermill": {
     "duration": 0.128337,
     "end_time": "2023-03-21T04:16:50.741987",
     "exception": false,
     "start_time": "2023-03-21T04:16:50.613650",
     "status": "completed"
    },
    "tags": []
   },
   "outputs": [
    {
     "data": {
      "image/png": "[encoded data removed]",
      "text/plain": [
       "<Figure size 640x480 with 1 Axes>"
      ]
     },
     "metadata": {},
     "output_type": "display_data"
    }
   ],
   "source": [
    "# library\n",
    "import matplotlib.pyplot as plt\n",
    " \n",
    "# create dataset\n",
    "height = [3, 12, 5, 18, 45]\n",
    "bars = ('A', 'B', 'C', 'D', 'E')\n",
    "\n",
    "# Choose the width of each bar and their positions\n",
    "width = [0.1,0.2,3,1.5,0.3]\n",
    "x_pos = [0,0.3,2,4.5,5.5]\n",
    " \n",
    "# Make the plot\n",
    "plt.bar(x_pos, height, width=width)\n",
    "\n",
    "# Create names on the x-axis\n",
    "plt.xticks(x_pos, bars)\n",
    " \n",
    "# Show graphic\n",
    "plt.show()"
   ]
  },
  {
   "cell_type": "markdown",
   "id": "f603a85a",
   "metadata": {
    "papermill": {
     "duration": 0.012207,
     "end_time": "2023-03-21T04:16:50.766942",
     "exception": false,
     "start_time": "2023-03-21T04:16:50.754735",
     "status": "completed"
    },
    "tags": []
   },
   "source": [
    "**Custom barplot layout**\n",
    "\n",
    "You can change the color of x and y axis labels using color argument in the xticks() and yticks() functions. The parameters in the xticks() function in the following example are:\n",
    "\n",
    "> x_pos : A list of positions at which ticks should be placed.\n",
    "\n",
    "> bars : A list of explicit labels to place.\n",
    "\n",
    "> color : Color of the labels."
   ]
  },
  {
   "cell_type": "code",
   "execution_count": 15,
   "id": "fff0566e",
   "metadata": {
    "execution": {
     "iopub.execute_input": "2023-03-21T04:16:50.790768Z",
     "iopub.status.busy": "2023-03-21T04:16:50.790131Z",
     "iopub.status.idle": "2023-03-21T04:16:50.908857Z",
     "shell.execute_reply": "2023-03-21T04:16:50.907986Z"
    },
    "papermill": {
     "duration": 0.132032,
     "end_time": "2023-03-21T04:16:50.911090",
     "exception": false,
     "start_time": "2023-03-21T04:16:50.779058",
     "status": "completed"
    },
    "tags": []
   },
   "outputs": [
    {
     "data": {
      "image/png": "[encoded data removed]",
      "text/plain": [
       "<Figure size 640x480 with 1 Axes>"
      ]
     },
     "metadata": {},
     "output_type": "display_data"
    }
   ],
   "source": [
    "# libraries\n",
    "import numpy as np\n",
    "import matplotlib.pyplot as plt\n",
    "\n",
    "# Choose the height of the bars\n",
    "height = [3, 12, 5, 18, 45]\n",
    "\n",
    "# Choose the names of the bars\n",
    "bars = ('group1', 'group2', 'group3', 'group4', 'group5')\n",
    "x_pos = np.arange(len(bars))\n",
    "\n",
    "# Create bars\n",
    "plt.bar(x_pos, height)\n",
    "\n",
    "# Create names on the x-axis\n",
    "plt.xticks(x_pos, bars, color='orange')\n",
    "plt.yticks(color='orange')\n",
    "\n",
    "# Show graphic\n",
    "plt.show()"
   ]
  },
  {
   "cell_type": "markdown",
   "id": "2758d61f",
   "metadata": {
    "papermill": {
     "duration": 0.011737,
     "end_time": "2023-03-21T04:16:50.936100",
     "exception": false,
     "start_time": "2023-03-21T04:16:50.924363",
     "status": "completed"
    },
    "tags": []
   },
   "source": [
    "**Axis Title**\n",
    "\n",
    "> You can add a title(label) to the x axis and y axis of the plot using xlabel() and ylabel() functions."
   ]
  },
  {
   "cell_type": "code",
   "execution_count": 16,
   "id": "2aeb9f6e",
   "metadata": {
    "execution": {
     "iopub.execute_input": "2023-03-21T04:16:50.958100Z",
     "iopub.status.busy": "2023-03-21T04:16:50.957407Z",
     "iopub.status.idle": "2023-03-21T04:16:51.073810Z",
     "shell.execute_reply": "2023-03-21T04:16:51.072994Z"
    },
    "papermill": {
     "duration": 0.130221,
     "end_time": "2023-03-21T04:16:51.076149",
     "exception": false,
     "start_time": "2023-03-21T04:16:50.945928",
     "status": "completed"
    },
    "tags": []
   },
   "outputs": [
    {
     "data": {
      "image/png": "[encoded data removed]",
      "text/plain": [
       "<Figure size 640x480 with 1 Axes>"
      ]
     },
     "metadata": {},
     "output_type": "display_data"
    }
   ],
   "source": [
    "# libraries\n",
    "import numpy as np\n",
    "import matplotlib.pyplot as plt\n",
    " \n",
    "# Create data\n",
    "height = [3, 12, 5, 18, 45]\n",
    "bars = ('A','B','C','D','E')\n",
    "x_pos = np.arange(len(bars))\n",
    " \n",
    "# Create bars\n",
    "plt.bar(x_pos, height)\n",
    " \n",
    "# Create names on the x-axis\n",
    "plt.xticks(x_pos, bars)\n",
    "\n",
    "# \n",
    "plt.xlabel('category', fontweight='bold', color = 'orange', fontsize='18')\n",
    " \n",
    "# Show graphic\n",
    "plt.show()"
   ]
  },
  {
   "cell_type": "markdown",
   "id": "da207c3e",
   "metadata": {
    "papermill": {
     "duration": 0.01282,
     "end_time": "2023-03-21T04:16:51.102444",
     "exception": false,
     "start_time": "2023-03-21T04:16:51.089624",
     "status": "completed"
    },
    "tags": []
   },
   "source": [
    "**Label Rotation and Figure Margins**\n",
    "\n",
    "> It is possible to rotate x and y tick labels using rotation argument in the xticks() and yticks() functions. You can also change the margins of your plot area by subplots_adjust() function."
   ]
  },
  {
   "cell_type": "code",
   "execution_count": 17,
   "id": "0ad39e01",
   "metadata": {
    "execution": {
     "iopub.execute_input": "2023-03-21T04:16:51.127279Z",
     "iopub.status.busy": "2023-03-21T04:16:51.126610Z",
     "iopub.status.idle": "2023-03-21T04:16:51.251702Z",
     "shell.execute_reply": "2023-03-21T04:16:51.250889Z"
    },
    "papermill": {
     "duration": 0.139151,
     "end_time": "2023-03-21T04:16:51.253873",
     "exception": false,
     "start_time": "2023-03-21T04:16:51.114722",
     "status": "completed"
    },
    "tags": []
   },
   "outputs": [
    {
     "data": {
      "image/png": "[encoded data removed]",
      "text/plain": [
       "<Figure size 640x480 with 1 Axes>"
      ]
     },
     "metadata": {},
     "output_type": "display_data"
    }
   ],
   "source": [
    "# libraries\n",
    "import numpy as np\n",
    "import matplotlib.pyplot as plt\n",
    " \n",
    "# Create data\n",
    "height = [3, 12, 5, 18, 45]\n",
    "bars = (\"very long group name 1\",\"very long group name 2\",\"very long group name 3\",\"very long group name 4\",\"very long group name 5\")\n",
    "x_pos = np.arange(len(bars))\n",
    " \n",
    "# Create bars\n",
    "plt.bar(x_pos, height)\n",
    " \n",
    "# Rotation of the bar names\n",
    "plt.xticks(x_pos, bars, rotation=45)\n",
    " \n",
    "# Custom the subplot layout\n",
    "plt.subplots_adjust(bottom=0.4, top=0.99)\n",
    " \n",
    "# Show graphic\n",
    "plt.show()"
   ]
  },
  {
   "cell_type": "markdown",
   "id": "ed2c8d9c",
   "metadata": {
    "papermill": {
     "duration": 0.013995,
     "end_time": "2023-03-21T04:16:51.281604",
     "exception": false,
     "start_time": "2023-03-21T04:16:51.267609",
     "status": "completed"
    },
    "tags": []
   },
   "source": [
    "**Add confidence interval on barplot**\n",
    "\n"
   ]
  },
  {
   "cell_type": "code",
   "execution_count": 18,
   "id": "8b4b0084",
   "metadata": {
    "execution": {
     "iopub.execute_input": "2023-03-21T04:16:51.304154Z",
     "iopub.status.busy": "2023-03-21T04:16:51.303473Z",
     "iopub.status.idle": "2023-03-21T04:16:51.462041Z",
     "shell.execute_reply": "2023-03-21T04:16:51.461184Z"
    },
    "papermill": {
     "duration": 0.172458,
     "end_time": "2023-03-21T04:16:51.464267",
     "exception": false,
     "start_time": "2023-03-21T04:16:51.291809",
     "status": "completed"
    },
    "tags": []
   },
   "outputs": [
    {
     "name": "stdout",
     "output_type": "stream",
     "text": [
      "[0.3, 1.3, 2.3]\n"
     ]
    },
    {
     "data": {
      "image/png": "[encoded data removed]",
      "text/plain": [
       "<Figure size 640x480 with 1 Axes>"
      ]
     },
     "metadata": {},
     "output_type": "display_data"
    }
   ],
   "source": [
    "# libraries\n",
    "import numpy as np\n",
    "import matplotlib.pyplot as plt\n",
    " \n",
    "# width of the bars\n",
    "barWidth = 0.3\n",
    " \n",
    "# Choose the height of the blue bars\n",
    "bars1 = [10, 9, 2]\n",
    " \n",
    "# Choose the height of the cyan bars\n",
    "bars2 = [10.8, 9.5, 4.5]\n",
    " \n",
    "# Choose the height of the error bars (bars1)\n",
    "yer1 = [0.5, 0.4, 0.5]\n",
    " \n",
    "# Choose the height of the error bars (bars2)\n",
    "yer2 = [1, 0.7, 1]\n",
    " \n",
    "# The x position of bars\n",
    "r1 = np.arange(len(bars1))\n",
    "r2 = [x + barWidth for x in r1]\n",
    "\n",
    "print(r2)\n",
    " \n",
    "# Create blue bars\n",
    "plt.bar(r1, bars1, width = barWidth, color = 'blue', edgecolor = 'black', yerr=yer1, capsize=7, label='poacee')\n",
    " \n",
    "# Create cyan bars\n",
    "plt.bar(r2, bars2, width = barWidth, color = 'cyan', edgecolor = 'black', yerr=yer2, capsize=7, label='sorgho')\n",
    " \n",
    "# general layout\n",
    "plt.xticks([r + barWidth for r in range(len(bars1))], ['cond_A', 'cond_B', 'cond_C'])\n",
    "plt.ylabel('height')\n",
    "plt.legend()\n",
    " \n",
    "# Show graphic\n",
    "plt.show()"
   ]
  },
  {
   "cell_type": "code",
   "execution_count": null,
   "id": "3f947676",
   "metadata": {
    "papermill": {
     "duration": 0.010512,
     "end_time": "2023-03-21T04:16:51.485608",
     "exception": false,
     "start_time": "2023-03-21T04:16:51.475096",
     "status": "completed"
    },
    "tags": []
   },
   "outputs": [],
   "source": []
  }
 ],
 "metadata": {
  "kernelspec": {
   "display_name": "Python 3",
   "language": "python",
   "name": "python3"
  },
  "language_info": {
   "codemirror_mode": {
    "name": "ipython",
    "version": 3
   },
   "file_extension": ".py",
   "mimetype": "text/x-python",
   "name": "python",
   "nbconvert_exporter": "python",
   "pygments_lexer": "ipython3",
   "version": "3.7.12"
  },
  "papermill": {
   "default_parameters": {},
   "duration": 14.772454,
   "end_time": "2023-03-21T04:16:52.217595",
   "environment_variables": {},
   "exception": null,
   "input_path": "__notebook__.ipynb",
   "output_path": "__notebook__.ipynb",
   "parameters": {},
   "start_time": "2023-03-21T04:16:37.445141",
   "version": "2.4.0"
  }
 },
 "nbformat": 4,
 "nbformat_minor": 5
}
